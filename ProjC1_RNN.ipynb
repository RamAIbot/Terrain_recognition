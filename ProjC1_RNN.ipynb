{
  "nbformat": 4,
  "nbformat_minor": 0,
  "metadata": {
    "colab": {
      "provenance": []
    },
    "kernelspec": {
      "name": "python3",
      "display_name": "Python 3"
    },
    "language_info": {
      "name": "python"
    },
    "widgets": {
      "application/vnd.jupyter.widget-state+json": {
        "49032c6112974e13af86e66bb2509e9f": {
          "model_module": "@jupyter-widgets/controls",
          "model_name": "HBoxModel",
          "model_module_version": "1.5.0",
          "state": {
            "_dom_classes": [],
            "_model_module": "@jupyter-widgets/controls",
            "_model_module_version": "1.5.0",
            "_model_name": "HBoxModel",
            "_view_count": null,
            "_view_module": "@jupyter-widgets/controls",
            "_view_module_version": "1.5.0",
            "_view_name": "HBoxView",
            "box_style": "",
            "children": [
              "IPY_MODEL_ce86e29734024a92b2152fe4829f0ddd",
              "IPY_MODEL_a7b0865f93a44971a493ba626239947a",
              "IPY_MODEL_00ff94ade89045b195262a0bc1495e1f"
            ],
            "layout": "IPY_MODEL_e0ff8e12412a4fc88dbb957d2999b853"
          }
        },
        "ce86e29734024a92b2152fe4829f0ddd": {
          "model_module": "@jupyter-widgets/controls",
          "model_name": "HTMLModel",
          "model_module_version": "1.5.0",
          "state": {
            "_dom_classes": [],
            "_model_module": "@jupyter-widgets/controls",
            "_model_module_version": "1.5.0",
            "_model_name": "HTMLModel",
            "_view_count": null,
            "_view_module": "@jupyter-widgets/controls",
            "_view_module_version": "1.5.0",
            "_view_name": "HTMLView",
            "description": "",
            "description_tooltip": null,
            "layout": "IPY_MODEL_0155ee0a51db48c181b2ccb5cac04ee1",
            "placeholder": "​",
            "style": "IPY_MODEL_16d5fa9007e549fe93cade09d07080a0",
            "value": ""
          }
        },
        "a7b0865f93a44971a493ba626239947a": {
          "model_module": "@jupyter-widgets/controls",
          "model_name": "FloatProgressModel",
          "model_module_version": "1.5.0",
          "state": {
            "_dom_classes": [],
            "_model_module": "@jupyter-widgets/controls",
            "_model_module_version": "1.5.0",
            "_model_name": "FloatProgressModel",
            "_view_count": null,
            "_view_module": "@jupyter-widgets/controls",
            "_view_module_version": "1.5.0",
            "_view_name": "ProgressView",
            "bar_style": "success",
            "description": "",
            "description_tooltip": null,
            "layout": "IPY_MODEL_ffeaa799a75b4ab29760b3dd9779f1b7",
            "max": 1,
            "min": 0,
            "orientation": "horizontal",
            "style": "IPY_MODEL_197af9d5f3394cfa85e666fb869d4e6a",
            "value": 1
          }
        },
        "00ff94ade89045b195262a0bc1495e1f": {
          "model_module": "@jupyter-widgets/controls",
          "model_name": "HTMLModel",
          "model_module_version": "1.5.0",
          "state": {
            "_dom_classes": [],
            "_model_module": "@jupyter-widgets/controls",
            "_model_module_version": "1.5.0",
            "_model_name": "HTMLModel",
            "_view_count": null,
            "_view_module": "@jupyter-widgets/controls",
            "_view_module_version": "1.5.0",
            "_view_name": "HTMLView",
            "description": "",
            "description_tooltip": null,
            "layout": "IPY_MODEL_c528be001b994255b773103cc67abf4d",
            "placeholder": "​",
            "style": "IPY_MODEL_1eba1fe5c9a547949262270a94572694",
            "value": " 29/? [00:10&lt;00:00,  6.02it/s]"
          }
        },
        "e0ff8e12412a4fc88dbb957d2999b853": {
          "model_module": "@jupyter-widgets/base",
          "model_name": "LayoutModel",
          "model_module_version": "1.2.0",
          "state": {
            "_model_module": "@jupyter-widgets/base",
            "_model_module_version": "1.2.0",
            "_model_name": "LayoutModel",
            "_view_count": null,
            "_view_module": "@jupyter-widgets/base",
            "_view_module_version": "1.2.0",
            "_view_name": "LayoutView",
            "align_content": null,
            "align_items": null,
            "align_self": null,
            "border": null,
            "bottom": null,
            "display": null,
            "flex": null,
            "flex_flow": null,
            "grid_area": null,
            "grid_auto_columns": null,
            "grid_auto_flow": null,
            "grid_auto_rows": null,
            "grid_column": null,
            "grid_gap": null,
            "grid_row": null,
            "grid_template_areas": null,
            "grid_template_columns": null,
            "grid_template_rows": null,
            "height": null,
            "justify_content": null,
            "justify_items": null,
            "left": null,
            "margin": null,
            "max_height": null,
            "max_width": null,
            "min_height": null,
            "min_width": null,
            "object_fit": null,
            "object_position": null,
            "order": null,
            "overflow": null,
            "overflow_x": null,
            "overflow_y": null,
            "padding": null,
            "right": null,
            "top": null,
            "visibility": null,
            "width": null
          }
        },
        "0155ee0a51db48c181b2ccb5cac04ee1": {
          "model_module": "@jupyter-widgets/base",
          "model_name": "LayoutModel",
          "model_module_version": "1.2.0",
          "state": {
            "_model_module": "@jupyter-widgets/base",
            "_model_module_version": "1.2.0",
            "_model_name": "LayoutModel",
            "_view_count": null,
            "_view_module": "@jupyter-widgets/base",
            "_view_module_version": "1.2.0",
            "_view_name": "LayoutView",
            "align_content": null,
            "align_items": null,
            "align_self": null,
            "border": null,
            "bottom": null,
            "display": null,
            "flex": null,
            "flex_flow": null,
            "grid_area": null,
            "grid_auto_columns": null,
            "grid_auto_flow": null,
            "grid_auto_rows": null,
            "grid_column": null,
            "grid_gap": null,
            "grid_row": null,
            "grid_template_areas": null,
            "grid_template_columns": null,
            "grid_template_rows": null,
            "height": null,
            "justify_content": null,
            "justify_items": null,
            "left": null,
            "margin": null,
            "max_height": null,
            "max_width": null,
            "min_height": null,
            "min_width": null,
            "object_fit": null,
            "object_position": null,
            "order": null,
            "overflow": null,
            "overflow_x": null,
            "overflow_y": null,
            "padding": null,
            "right": null,
            "top": null,
            "visibility": null,
            "width": null
          }
        },
        "16d5fa9007e549fe93cade09d07080a0": {
          "model_module": "@jupyter-widgets/controls",
          "model_name": "DescriptionStyleModel",
          "model_module_version": "1.5.0",
          "state": {
            "_model_module": "@jupyter-widgets/controls",
            "_model_module_version": "1.5.0",
            "_model_name": "DescriptionStyleModel",
            "_view_count": null,
            "_view_module": "@jupyter-widgets/base",
            "_view_module_version": "1.2.0",
            "_view_name": "StyleView",
            "description_width": ""
          }
        },
        "ffeaa799a75b4ab29760b3dd9779f1b7": {
          "model_module": "@jupyter-widgets/base",
          "model_name": "LayoutModel",
          "model_module_version": "1.2.0",
          "state": {
            "_model_module": "@jupyter-widgets/base",
            "_model_module_version": "1.2.0",
            "_model_name": "LayoutModel",
            "_view_count": null,
            "_view_module": "@jupyter-widgets/base",
            "_view_module_version": "1.2.0",
            "_view_name": "LayoutView",
            "align_content": null,
            "align_items": null,
            "align_self": null,
            "border": null,
            "bottom": null,
            "display": null,
            "flex": null,
            "flex_flow": null,
            "grid_area": null,
            "grid_auto_columns": null,
            "grid_auto_flow": null,
            "grid_auto_rows": null,
            "grid_column": null,
            "grid_gap": null,
            "grid_row": null,
            "grid_template_areas": null,
            "grid_template_columns": null,
            "grid_template_rows": null,
            "height": null,
            "justify_content": null,
            "justify_items": null,
            "left": null,
            "margin": null,
            "max_height": null,
            "max_width": null,
            "min_height": null,
            "min_width": null,
            "object_fit": null,
            "object_position": null,
            "order": null,
            "overflow": null,
            "overflow_x": null,
            "overflow_y": null,
            "padding": null,
            "right": null,
            "top": null,
            "visibility": null,
            "width": "20px"
          }
        },
        "197af9d5f3394cfa85e666fb869d4e6a": {
          "model_module": "@jupyter-widgets/controls",
          "model_name": "ProgressStyleModel",
          "model_module_version": "1.5.0",
          "state": {
            "_model_module": "@jupyter-widgets/controls",
            "_model_module_version": "1.5.0",
            "_model_name": "ProgressStyleModel",
            "_view_count": null,
            "_view_module": "@jupyter-widgets/base",
            "_view_module_version": "1.2.0",
            "_view_name": "StyleView",
            "bar_color": null,
            "description_width": ""
          }
        },
        "c528be001b994255b773103cc67abf4d": {
          "model_module": "@jupyter-widgets/base",
          "model_name": "LayoutModel",
          "model_module_version": "1.2.0",
          "state": {
            "_model_module": "@jupyter-widgets/base",
            "_model_module_version": "1.2.0",
            "_model_name": "LayoutModel",
            "_view_count": null,
            "_view_module": "@jupyter-widgets/base",
            "_view_module_version": "1.2.0",
            "_view_name": "LayoutView",
            "align_content": null,
            "align_items": null,
            "align_self": null,
            "border": null,
            "bottom": null,
            "display": null,
            "flex": null,
            "flex_flow": null,
            "grid_area": null,
            "grid_auto_columns": null,
            "grid_auto_flow": null,
            "grid_auto_rows": null,
            "grid_column": null,
            "grid_gap": null,
            "grid_row": null,
            "grid_template_areas": null,
            "grid_template_columns": null,
            "grid_template_rows": null,
            "height": null,
            "justify_content": null,
            "justify_items": null,
            "left": null,
            "margin": null,
            "max_height": null,
            "max_width": null,
            "min_height": null,
            "min_width": null,
            "object_fit": null,
            "object_position": null,
            "order": null,
            "overflow": null,
            "overflow_x": null,
            "overflow_y": null,
            "padding": null,
            "right": null,
            "top": null,
            "visibility": null,
            "width": null
          }
        },
        "1eba1fe5c9a547949262270a94572694": {
          "model_module": "@jupyter-widgets/controls",
          "model_name": "DescriptionStyleModel",
          "model_module_version": "1.5.0",
          "state": {
            "_model_module": "@jupyter-widgets/controls",
            "_model_module_version": "1.5.0",
            "_model_name": "DescriptionStyleModel",
            "_view_count": null,
            "_view_module": "@jupyter-widgets/base",
            "_view_module_version": "1.2.0",
            "_view_name": "StyleView",
            "description_width": ""
          }
        },
        "5d31721ce51c4d1eb41e96f1a09af7ef": {
          "model_module": "@jupyter-widgets/controls",
          "model_name": "HBoxModel",
          "model_module_version": "1.5.0",
          "state": {
            "_dom_classes": [],
            "_model_module": "@jupyter-widgets/controls",
            "_model_module_version": "1.5.0",
            "_model_name": "HBoxModel",
            "_view_count": null,
            "_view_module": "@jupyter-widgets/controls",
            "_view_module_version": "1.5.0",
            "_view_name": "HBoxView",
            "box_style": "",
            "children": [
              "IPY_MODEL_f4081dc66ace486383cf3cb96c48ff78",
              "IPY_MODEL_a6713904e7b047a99554495532372425",
              "IPY_MODEL_5e8427176e4d40e484cac406893d2d1f"
            ],
            "layout": "IPY_MODEL_1debd66525d34c6c940db5925f9cdd8c"
          }
        },
        "f4081dc66ace486383cf3cb96c48ff78": {
          "model_module": "@jupyter-widgets/controls",
          "model_name": "HTMLModel",
          "model_module_version": "1.5.0",
          "state": {
            "_dom_classes": [],
            "_model_module": "@jupyter-widgets/controls",
            "_model_module_version": "1.5.0",
            "_model_name": "HTMLModel",
            "_view_count": null,
            "_view_module": "@jupyter-widgets/controls",
            "_view_module_version": "1.5.0",
            "_view_name": "HTMLView",
            "description": "",
            "description_tooltip": null,
            "layout": "IPY_MODEL_c82ad01203ae4c27aadb054c4d27e54f",
            "placeholder": "​",
            "style": "IPY_MODEL_22fe4b5aa3c445628574f1a09ff2e939",
            "value": ""
          }
        },
        "a6713904e7b047a99554495532372425": {
          "model_module": "@jupyter-widgets/controls",
          "model_name": "FloatProgressModel",
          "model_module_version": "1.5.0",
          "state": {
            "_dom_classes": [],
            "_model_module": "@jupyter-widgets/controls",
            "_model_module_version": "1.5.0",
            "_model_name": "FloatProgressModel",
            "_view_count": null,
            "_view_module": "@jupyter-widgets/controls",
            "_view_module_version": "1.5.0",
            "_view_name": "ProgressView",
            "bar_style": "success",
            "description": "",
            "description_tooltip": null,
            "layout": "IPY_MODEL_f90e691155594f7ab40673073c2af8d1",
            "max": 1,
            "min": 0,
            "orientation": "horizontal",
            "style": "IPY_MODEL_24a2b32071d441b79e1b6bd3f1ddaa30",
            "value": 1
          }
        },
        "5e8427176e4d40e484cac406893d2d1f": {
          "model_module": "@jupyter-widgets/controls",
          "model_name": "HTMLModel",
          "model_module_version": "1.5.0",
          "state": {
            "_dom_classes": [],
            "_model_module": "@jupyter-widgets/controls",
            "_model_module_version": "1.5.0",
            "_model_name": "HTMLModel",
            "_view_count": null,
            "_view_module": "@jupyter-widgets/controls",
            "_view_module_version": "1.5.0",
            "_view_name": "HTMLView",
            "description": "",
            "description_tooltip": null,
            "layout": "IPY_MODEL_7ab4bcc7bff34e709f42f4b0d206f5f5",
            "placeholder": "​",
            "style": "IPY_MODEL_04024b18b11d4a989f8f85752d32f6fd",
            "value": " 29/? [00:10&lt;00:00,  2.98it/s]"
          }
        },
        "1debd66525d34c6c940db5925f9cdd8c": {
          "model_module": "@jupyter-widgets/base",
          "model_name": "LayoutModel",
          "model_module_version": "1.2.0",
          "state": {
            "_model_module": "@jupyter-widgets/base",
            "_model_module_version": "1.2.0",
            "_model_name": "LayoutModel",
            "_view_count": null,
            "_view_module": "@jupyter-widgets/base",
            "_view_module_version": "1.2.0",
            "_view_name": "LayoutView",
            "align_content": null,
            "align_items": null,
            "align_self": null,
            "border": null,
            "bottom": null,
            "display": null,
            "flex": null,
            "flex_flow": null,
            "grid_area": null,
            "grid_auto_columns": null,
            "grid_auto_flow": null,
            "grid_auto_rows": null,
            "grid_column": null,
            "grid_gap": null,
            "grid_row": null,
            "grid_template_areas": null,
            "grid_template_columns": null,
            "grid_template_rows": null,
            "height": null,
            "justify_content": null,
            "justify_items": null,
            "left": null,
            "margin": null,
            "max_height": null,
            "max_width": null,
            "min_height": null,
            "min_width": null,
            "object_fit": null,
            "object_position": null,
            "order": null,
            "overflow": null,
            "overflow_x": null,
            "overflow_y": null,
            "padding": null,
            "right": null,
            "top": null,
            "visibility": null,
            "width": null
          }
        },
        "c82ad01203ae4c27aadb054c4d27e54f": {
          "model_module": "@jupyter-widgets/base",
          "model_name": "LayoutModel",
          "model_module_version": "1.2.0",
          "state": {
            "_model_module": "@jupyter-widgets/base",
            "_model_module_version": "1.2.0",
            "_model_name": "LayoutModel",
            "_view_count": null,
            "_view_module": "@jupyter-widgets/base",
            "_view_module_version": "1.2.0",
            "_view_name": "LayoutView",
            "align_content": null,
            "align_items": null,
            "align_self": null,
            "border": null,
            "bottom": null,
            "display": null,
            "flex": null,
            "flex_flow": null,
            "grid_area": null,
            "grid_auto_columns": null,
            "grid_auto_flow": null,
            "grid_auto_rows": null,
            "grid_column": null,
            "grid_gap": null,
            "grid_row": null,
            "grid_template_areas": null,
            "grid_template_columns": null,
            "grid_template_rows": null,
            "height": null,
            "justify_content": null,
            "justify_items": null,
            "left": null,
            "margin": null,
            "max_height": null,
            "max_width": null,
            "min_height": null,
            "min_width": null,
            "object_fit": null,
            "object_position": null,
            "order": null,
            "overflow": null,
            "overflow_x": null,
            "overflow_y": null,
            "padding": null,
            "right": null,
            "top": null,
            "visibility": null,
            "width": null
          }
        },
        "22fe4b5aa3c445628574f1a09ff2e939": {
          "model_module": "@jupyter-widgets/controls",
          "model_name": "DescriptionStyleModel",
          "model_module_version": "1.5.0",
          "state": {
            "_model_module": "@jupyter-widgets/controls",
            "_model_module_version": "1.5.0",
            "_model_name": "DescriptionStyleModel",
            "_view_count": null,
            "_view_module": "@jupyter-widgets/base",
            "_view_module_version": "1.2.0",
            "_view_name": "StyleView",
            "description_width": ""
          }
        },
        "f90e691155594f7ab40673073c2af8d1": {
          "model_module": "@jupyter-widgets/base",
          "model_name": "LayoutModel",
          "model_module_version": "1.2.0",
          "state": {
            "_model_module": "@jupyter-widgets/base",
            "_model_module_version": "1.2.0",
            "_model_name": "LayoutModel",
            "_view_count": null,
            "_view_module": "@jupyter-widgets/base",
            "_view_module_version": "1.2.0",
            "_view_name": "LayoutView",
            "align_content": null,
            "align_items": null,
            "align_self": null,
            "border": null,
            "bottom": null,
            "display": null,
            "flex": null,
            "flex_flow": null,
            "grid_area": null,
            "grid_auto_columns": null,
            "grid_auto_flow": null,
            "grid_auto_rows": null,
            "grid_column": null,
            "grid_gap": null,
            "grid_row": null,
            "grid_template_areas": null,
            "grid_template_columns": null,
            "grid_template_rows": null,
            "height": null,
            "justify_content": null,
            "justify_items": null,
            "left": null,
            "margin": null,
            "max_height": null,
            "max_width": null,
            "min_height": null,
            "min_width": null,
            "object_fit": null,
            "object_position": null,
            "order": null,
            "overflow": null,
            "overflow_x": null,
            "overflow_y": null,
            "padding": null,
            "right": null,
            "top": null,
            "visibility": null,
            "width": "20px"
          }
        },
        "24a2b32071d441b79e1b6bd3f1ddaa30": {
          "model_module": "@jupyter-widgets/controls",
          "model_name": "ProgressStyleModel",
          "model_module_version": "1.5.0",
          "state": {
            "_model_module": "@jupyter-widgets/controls",
            "_model_module_version": "1.5.0",
            "_model_name": "ProgressStyleModel",
            "_view_count": null,
            "_view_module": "@jupyter-widgets/base",
            "_view_module_version": "1.2.0",
            "_view_name": "StyleView",
            "bar_color": null,
            "description_width": ""
          }
        },
        "7ab4bcc7bff34e709f42f4b0d206f5f5": {
          "model_module": "@jupyter-widgets/base",
          "model_name": "LayoutModel",
          "model_module_version": "1.2.0",
          "state": {
            "_model_module": "@jupyter-widgets/base",
            "_model_module_version": "1.2.0",
            "_model_name": "LayoutModel",
            "_view_count": null,
            "_view_module": "@jupyter-widgets/base",
            "_view_module_version": "1.2.0",
            "_view_name": "LayoutView",
            "align_content": null,
            "align_items": null,
            "align_self": null,
            "border": null,
            "bottom": null,
            "display": null,
            "flex": null,
            "flex_flow": null,
            "grid_area": null,
            "grid_auto_columns": null,
            "grid_auto_flow": null,
            "grid_auto_rows": null,
            "grid_column": null,
            "grid_gap": null,
            "grid_row": null,
            "grid_template_areas": null,
            "grid_template_columns": null,
            "grid_template_rows": null,
            "height": null,
            "justify_content": null,
            "justify_items": null,
            "left": null,
            "margin": null,
            "max_height": null,
            "max_width": null,
            "min_height": null,
            "min_width": null,
            "object_fit": null,
            "object_position": null,
            "order": null,
            "overflow": null,
            "overflow_x": null,
            "overflow_y": null,
            "padding": null,
            "right": null,
            "top": null,
            "visibility": null,
            "width": null
          }
        },
        "04024b18b11d4a989f8f85752d32f6fd": {
          "model_module": "@jupyter-widgets/controls",
          "model_name": "DescriptionStyleModel",
          "model_module_version": "1.5.0",
          "state": {
            "_model_module": "@jupyter-widgets/controls",
            "_model_module_version": "1.5.0",
            "_model_name": "DescriptionStyleModel",
            "_view_count": null,
            "_view_module": "@jupyter-widgets/base",
            "_view_module_version": "1.2.0",
            "_view_name": "StyleView",
            "description_width": ""
          }
        }
      }
    },
    "accelerator": "GPU",
    "gpuClass": "standard"
  },
  "cells": [
    {
      "cell_type": "code",
      "execution_count": 1,
      "metadata": {
        "id": "cJTl5LxGCEzb"
      },
      "outputs": [],
      "source": [
        "import os\n",
        "import re\n",
        "import nibabel as nib\n",
        "import pandas as pd\n",
        "import numpy as np\n",
        "import torch\n",
        "from torch import nn\n",
        "from fastai.vision import *\n",
        "from tqdm.notebook import tqdm\n",
        "from torchvision import datasets, transforms, models\n",
        "from torch import optim\n",
        "from torch.utils.data import DataLoader\n",
        "from sklearn import preprocessing\n",
        "\n",
        "import numpy as np\n",
        "import pandas as pd\n",
        "import os\n",
        "import scipy.ndimage as ndi\n",
        "import shutil"
      ]
    },
    {
      "cell_type": "code",
      "source": [
        "from google.colab import drive\n",
        "drive.mount('/content/drive',force_remount=True)"
      ],
      "metadata": {
        "colab": {
          "base_uri": "https://localhost:8080/"
        },
        "id": "vLHKKq2CIGNR",
        "outputId": "e678513b-a701-4380-b42b-b51525c1ed4e"
      },
      "execution_count": 2,
      "outputs": [
        {
          "output_type": "stream",
          "name": "stdout",
          "text": [
            "Mounted at /content/drive\n"
          ]
        }
      ]
    },
    {
      "cell_type": "code",
      "source": [
        "train_path = \"/content/drive/MyDrive/ece542/ECE542_sp2022_Project_TerrainRecognition/TrainingData\"\n",
        "test_path = \"/content/drive/MyDrive/ece542/ECE542_sp2022_Project_TerrainRecognition/TestData\""
      ],
      "metadata": {
        "id": "HHHhu7_iIIPr"
      },
      "execution_count": 3,
      "outputs": []
    },
    {
      "cell_type": "code",
      "source": [
        "len(os.listdir(train_path))"
      ],
      "metadata": {
        "colab": {
          "base_uri": "https://localhost:8080/"
        },
        "id": "_QRxPSdXTtDa",
        "outputId": "1bb64c4d-d9e4-4caf-ed3e-0030e8448245"
      },
      "execution_count": 4,
      "outputs": [
        {
          "output_type": "execute_result",
          "data": {
            "text/plain": [
              "116"
            ]
          },
          "metadata": {},
          "execution_count": 4
        }
      ]
    },
    {
      "cell_type": "code",
      "source": [
        "os.listdir(train_path)"
      ],
      "metadata": {
        "colab": {
          "base_uri": "https://localhost:8080/"
        },
        "id": "gWuLCIMOUPeY",
        "outputId": "3f0ae13d-b2f8-440e-fd80-0d052dbdceec"
      },
      "execution_count": 5,
      "outputs": [
        {
          "output_type": "execute_result",
          "data": {
            "text/plain": [
              "['subject_005_03__y.csv',\n",
              " 'subject_006_01__y_time.csv',\n",
              " 'subject_007_03__x_time.csv',\n",
              " 'subject_007_04__x_time.csv',\n",
              " 'subject_008_01__x_time.csv',\n",
              " 'subject_006_03__y.csv',\n",
              " 'subject_007_01__y.csv',\n",
              " 'subject_006_02__y_time.csv',\n",
              " 'subject_007_03__y_time.csv',\n",
              " 'subject_007_04__y.csv',\n",
              " 'subject_004_02__y_time.csv',\n",
              " 'subject_007_01__x_time.csv',\n",
              " 'subject_008_01__y.csv',\n",
              " 'subject_006_03__x_time.csv',\n",
              " 'subject_006_03__y_time.csv',\n",
              " 'subject_007_02__y_time.csv',\n",
              " 'subject_006_02__x_time.csv',\n",
              " 'subject_008_01__y_time.csv',\n",
              " 'subject_006_02__y.csv',\n",
              " 'subject_005_03__x_time.csv',\n",
              " 'subject_005_03__y_time.csv',\n",
              " 'subject_006_01__y.csv',\n",
              " 'subject_007_02__x_time.csv',\n",
              " 'subject_007_01__y_time.csv',\n",
              " 'subject_007_02__y.csv',\n",
              " 'subject_007_03__y.csv',\n",
              " 'subject_004_02__x_time.csv',\n",
              " 'subject_005_01__x_time.csv',\n",
              " 'subject_006_01__x_time.csv',\n",
              " 'subject_007_02__x.csv',\n",
              " 'subject_004_01__x_time.csv',\n",
              " 'subject_004_02__y.csv',\n",
              " 'subject_003_02__y.csv',\n",
              " 'subject_008_01__x.csv',\n",
              " 'subject_006_03__x.csv',\n",
              " 'subject_003_03__y.csv',\n",
              " 'subject_006_01__x.csv',\n",
              " 'subject_003_03__y_time.csv',\n",
              " 'subject_005_02__y_time.csv',\n",
              " 'subject_003_01__y_time.csv',\n",
              " 'subject_005_01__y_time.csv',\n",
              " 'subject_005_02__y.csv',\n",
              " 'subject_004_01__y_time.csv',\n",
              " 'subject_005_02__x_time.csv',\n",
              " 'subject_003_03__x_time.csv',\n",
              " 'subject_006_02__x.csv',\n",
              " 'subject_003_01__y.csv',\n",
              " 'subject_005_03__x.csv',\n",
              " 'subject_005_02__x.csv',\n",
              " 'subject_004_01__y.csv',\n",
              " 'subject_005_01__y.csv',\n",
              " 'subject_002_05__y.csv',\n",
              " 'subject_007_03__x.csv',\n",
              " 'subject_004_02__x.csv',\n",
              " 'subject_003_02__y_time.csv',\n",
              " 'subject_007_01__x.csv',\n",
              " 'subject_003_02__x_time.csv',\n",
              " 'subject_002_05__y_time.csv',\n",
              " 'subject_003_03__x.csv',\n",
              " 'subject_004_01__x.csv',\n",
              " 'subject_002_04__y.csv',\n",
              " 'subject_002_02__y.csv',\n",
              " 'subject_002_04__x_time.csv',\n",
              " 'subject_002_01__y.csv',\n",
              " 'subject_001_01__x_time.csv',\n",
              " 'subject_002_03__x_time.csv',\n",
              " 'subject_007_04__x.csv',\n",
              " 'subject_002_02__y_time.csv',\n",
              " 'subject_001_01__y_time.csv',\n",
              " 'subject_005_01__x.csv',\n",
              " 'subject_002_01__y_time.csv',\n",
              " 'subject_003_01__x.csv',\n",
              " 'subject_002_05__x_time.csv',\n",
              " 'subject_002_01__x_time.csv',\n",
              " 'subject_003_01__x_time.csv',\n",
              " 'subject_002_03__y_time.csv',\n",
              " 'subject_002_04__y_time.csv',\n",
              " 'subject_002_02__x.csv',\n",
              " 'subject_002_05__x.csv',\n",
              " 'subject_001_08__y_time.csv',\n",
              " 'subject_001_06__y.csv',\n",
              " 'subject_001_04__x_time.csv',\n",
              " 'subject_001_07__y_time.csv',\n",
              " 'subject_001_04__y.csv',\n",
              " 'subject_002_04__x.csv',\n",
              " 'subject_001_04__y_time.csv',\n",
              " 'subject_001_06__y_time.csv',\n",
              " 'subject_002_02__x_time.csv',\n",
              " 'subject_001_07__x_time.csv',\n",
              " 'subject_002_01__x.csv',\n",
              " 'subject_001_03__y_time.csv',\n",
              " 'subject_001_06__x_time.csv',\n",
              " 'subject_002_03__y.csv',\n",
              " 'subject_001_08__y.csv',\n",
              " 'subject_007_04__y_time.csv',\n",
              " 'subject_001_08__x_time.csv',\n",
              " 'subject_001_05__y.csv',\n",
              " 'subject_001_01__y.csv',\n",
              " 'subject_001_07__x.csv',\n",
              " 'subject_002_03__x.csv',\n",
              " 'subject_001_02__x_time.csv',\n",
              " 'subject_001_02__y_time.csv',\n",
              " 'subject_001_03__x.csv',\n",
              " 'subject_001_02__y.csv',\n",
              " 'subject_001_07__y.csv',\n",
              " 'subject_001_03__y.csv',\n",
              " 'subject_001_05__x_time.csv',\n",
              " 'subject_003_02__x.csv',\n",
              " 'subject_001_06__x.csv',\n",
              " 'subject_001_03__x_time.csv',\n",
              " 'subject_001_01__x.csv',\n",
              " 'subject_001_08__x.csv',\n",
              " 'subject_001_04__x.csv',\n",
              " 'subject_001_02__x.csv',\n",
              " 'subject_001_05__x.csv',\n",
              " 'subject_001_05__y_time.csv']"
            ]
          },
          "metadata": {},
          "execution_count": 5
        }
      ]
    },
    {
      "cell_type": "code",
      "source": [
        "folder_contents = os.listdir(train_path)\n",
        "files_x_data = []\n",
        "files_y_data = []\n",
        "files_x_time = []\n",
        "files_y_time = []\n",
        "folder_contents.sort()\n",
        "for name in folder_contents:\n",
        "  temp = name.split('__')[1]\n",
        "  if(temp == \"x.csv\"):\n",
        "    # store x files\n",
        "    files_x_data.append(name)\n",
        "  elif(temp == \"y.csv\"):\n",
        "    #s store corresponding y files\n",
        "    files_y_data.append(name)\n",
        "  elif(temp == \"x_time.csv\"):\n",
        "    files_x_time.append(name)\n",
        "  elif(temp == \"y_time.csv\"):\n",
        "    files_y_time.append(name)\n",
        "\n",
        "print(files_x_data)\n",
        "print(files_y_data)\n",
        "print(files_x_time)\n",
        "print(files_y_time)"
      ],
      "metadata": {
        "colab": {
          "base_uri": "https://localhost:8080/"
        },
        "id": "L4OV05GoUGCo",
        "outputId": "6380e007-05bb-4c2f-e146-dd036a16cb44"
      },
      "execution_count": 6,
      "outputs": [
        {
          "output_type": "stream",
          "name": "stdout",
          "text": [
            "['subject_001_01__x.csv', 'subject_001_02__x.csv', 'subject_001_03__x.csv', 'subject_001_04__x.csv', 'subject_001_05__x.csv', 'subject_001_06__x.csv', 'subject_001_07__x.csv', 'subject_001_08__x.csv', 'subject_002_01__x.csv', 'subject_002_02__x.csv', 'subject_002_03__x.csv', 'subject_002_04__x.csv', 'subject_002_05__x.csv', 'subject_003_01__x.csv', 'subject_003_02__x.csv', 'subject_003_03__x.csv', 'subject_004_01__x.csv', 'subject_004_02__x.csv', 'subject_005_01__x.csv', 'subject_005_02__x.csv', 'subject_005_03__x.csv', 'subject_006_01__x.csv', 'subject_006_02__x.csv', 'subject_006_03__x.csv', 'subject_007_01__x.csv', 'subject_007_02__x.csv', 'subject_007_03__x.csv', 'subject_007_04__x.csv', 'subject_008_01__x.csv']\n",
            "['subject_001_01__y.csv', 'subject_001_02__y.csv', 'subject_001_03__y.csv', 'subject_001_04__y.csv', 'subject_001_05__y.csv', 'subject_001_06__y.csv', 'subject_001_07__y.csv', 'subject_001_08__y.csv', 'subject_002_01__y.csv', 'subject_002_02__y.csv', 'subject_002_03__y.csv', 'subject_002_04__y.csv', 'subject_002_05__y.csv', 'subject_003_01__y.csv', 'subject_003_02__y.csv', 'subject_003_03__y.csv', 'subject_004_01__y.csv', 'subject_004_02__y.csv', 'subject_005_01__y.csv', 'subject_005_02__y.csv', 'subject_005_03__y.csv', 'subject_006_01__y.csv', 'subject_006_02__y.csv', 'subject_006_03__y.csv', 'subject_007_01__y.csv', 'subject_007_02__y.csv', 'subject_007_03__y.csv', 'subject_007_04__y.csv', 'subject_008_01__y.csv']\n",
            "['subject_001_01__x_time.csv', 'subject_001_02__x_time.csv', 'subject_001_03__x_time.csv', 'subject_001_04__x_time.csv', 'subject_001_05__x_time.csv', 'subject_001_06__x_time.csv', 'subject_001_07__x_time.csv', 'subject_001_08__x_time.csv', 'subject_002_01__x_time.csv', 'subject_002_02__x_time.csv', 'subject_002_03__x_time.csv', 'subject_002_04__x_time.csv', 'subject_002_05__x_time.csv', 'subject_003_01__x_time.csv', 'subject_003_02__x_time.csv', 'subject_003_03__x_time.csv', 'subject_004_01__x_time.csv', 'subject_004_02__x_time.csv', 'subject_005_01__x_time.csv', 'subject_005_02__x_time.csv', 'subject_005_03__x_time.csv', 'subject_006_01__x_time.csv', 'subject_006_02__x_time.csv', 'subject_006_03__x_time.csv', 'subject_007_01__x_time.csv', 'subject_007_02__x_time.csv', 'subject_007_03__x_time.csv', 'subject_007_04__x_time.csv', 'subject_008_01__x_time.csv']\n",
            "['subject_001_01__y_time.csv', 'subject_001_02__y_time.csv', 'subject_001_03__y_time.csv', 'subject_001_04__y_time.csv', 'subject_001_05__y_time.csv', 'subject_001_06__y_time.csv', 'subject_001_07__y_time.csv', 'subject_001_08__y_time.csv', 'subject_002_01__y_time.csv', 'subject_002_02__y_time.csv', 'subject_002_03__y_time.csv', 'subject_002_04__y_time.csv', 'subject_002_05__y_time.csv', 'subject_003_01__y_time.csv', 'subject_003_02__y_time.csv', 'subject_003_03__y_time.csv', 'subject_004_01__y_time.csv', 'subject_004_02__y_time.csv', 'subject_005_01__y_time.csv', 'subject_005_02__y_time.csv', 'subject_005_03__y_time.csv', 'subject_006_01__y_time.csv', 'subject_006_02__y_time.csv', 'subject_006_03__y_time.csv', 'subject_007_01__y_time.csv', 'subject_007_02__y_time.csv', 'subject_007_03__y_time.csv', 'subject_007_04__y_time.csv', 'subject_008_01__y_time.csv']\n"
          ]
        }
      ]
    },
    {
      "cell_type": "code",
      "source": [
        "for sub_x,sub_y in tqdm(zip(files_x_data,files_y_data)):\n",
        "  print(sub_x)\n",
        "  data_sub_1_x = pd.read_csv(train_path+'/'+sub_x,header=None)\n",
        "  #data_sub_1_x_time = pd.read_csv(train_path+'/subject_001_01__x_time.csv',header=None)\n",
        "  data_sub_1_y = pd.read_csv(train_path+'/'+sub_y,header=None)\n",
        "  #data_sub_1_y_time = pd.read_csv(train_path+'/subject_001_01__y_time.csv',header=None)\n",
        "  data_sub_1_x_val = data_sub_1_x.values                 #-> shape = (37890, 6)\n",
        "  #data_sub_1_x_time_val = data_sub_1_x_time.values\n",
        "  data_sub_1_y_val = data_sub_1_y.values\n",
        "\n",
        "  # print(len(data_sub_1_x_val)-1)\n",
        "  # print(len(data_sub_1_y_val)-1)\n",
        "\n",
        "  print((len(data_sub_1_x_val)-1)/(len(data_sub_1_y_val)-1))"
      ],
      "metadata": {
        "colab": {
          "base_uri": "https://localhost:8080/",
          "height": 1000,
          "referenced_widgets": [
            "49032c6112974e13af86e66bb2509e9f",
            "ce86e29734024a92b2152fe4829f0ddd",
            "a7b0865f93a44971a493ba626239947a",
            "00ff94ade89045b195262a0bc1495e1f",
            "e0ff8e12412a4fc88dbb957d2999b853",
            "0155ee0a51db48c181b2ccb5cac04ee1",
            "16d5fa9007e549fe93cade09d07080a0",
            "ffeaa799a75b4ab29760b3dd9779f1b7",
            "197af9d5f3394cfa85e666fb869d4e6a",
            "c528be001b994255b773103cc67abf4d",
            "1eba1fe5c9a547949262270a94572694"
          ]
        },
        "id": "iSWt624_0c41",
        "outputId": "5be10900-77dd-4361-840e-585f080b6fa4"
      },
      "execution_count": 7,
      "outputs": [
        {
          "output_type": "display_data",
          "data": {
            "text/plain": [
              "0it [00:00, ?it/s]"
            ],
            "application/vnd.jupyter.widget-view+json": {
              "version_major": 2,
              "version_minor": 0,
              "model_id": "49032c6112974e13af86e66bb2509e9f"
            }
          },
          "metadata": {}
        },
        {
          "output_type": "stream",
          "name": "stdout",
          "text": [
            "subject_001_01__x.csv\n",
            "4.000105574324325\n",
            "subject_001_02__x.csv\n",
            "4.000171018127921\n",
            "subject_001_03__x.csv\n",
            "4.00009271277582\n",
            "subject_001_04__x.csv\n",
            "4.000218372397729\n",
            "subject_001_05__x.csv\n",
            "4.000270654306787\n",
            "subject_001_06__x.csv\n",
            "4.00020710365538\n",
            "subject_001_07__x.csv\n",
            "4.000254614894971\n",
            "subject_001_08__x.csv\n",
            "4.0000599161174355\n",
            "subject_002_01__x.csv\n",
            "4.000142867347668\n",
            "subject_002_02__x.csv\n",
            "4.000288829518377\n",
            "subject_002_03__x.csv\n",
            "4.000327922610264\n",
            "subject_002_04__x.csv\n",
            "4.000310945273632\n",
            "subject_002_05__x.csv\n",
            "4.000189053785802\n",
            "subject_003_01__x.csv\n",
            "4.000440674231574\n",
            "subject_003_02__x.csv\n",
            "4.000084731401458\n",
            "subject_003_03__x.csv\n",
            "4.000819336337567\n",
            "subject_004_01__x.csv\n",
            "4.000466417910448\n",
            "subject_004_02__x.csv\n",
            "4.000348108609886\n",
            "subject_005_01__x.csv\n",
            "4.000142663528069\n",
            "subject_005_02__x.csv\n",
            "4.000231776567389\n",
            "subject_005_03__x.csv\n",
            "4.0003563474387525\n",
            "subject_006_01__x.csv\n",
            "4.000332502078138\n",
            "subject_006_02__x.csv\n",
            "4.0000671591672265\n",
            "subject_006_03__x.csv\n",
            "4.0003545784948145\n",
            "subject_007_01__x.csv\n",
            "4.000346350333362\n",
            "subject_007_02__x.csv\n",
            "4.000340541460923\n",
            "subject_007_03__x.csv\n",
            "4.000358455058697\n",
            "subject_007_04__x.csv\n",
            "4.0002028603306625\n",
            "subject_008_01__x.csv\n",
            "4.000083097889314\n"
          ]
        }
      ]
    },
    {
      "cell_type": "code",
      "source": [
        "from sklearn.preprocessing import StandardScaler\n",
        "def create_dataset(x_time_file, y_time_file, x_data_file, y_data_file):\n",
        "  \n",
        "  x_time = pd.read_csv(train_path + '/' + x_time_file,header=None)\n",
        "  y_time = pd.read_csv(train_path + '/' + y_time_file,header=None)\n",
        "  x_data = pd.read_csv(train_path + '/' + x_data_file,header=None)\n",
        "  y_data = pd.read_csv(train_path + '/' + y_data_file,header=None)\n",
        "\n",
        "  x_time_val = x_time.values\n",
        "  y_time_val = y_time.values\n",
        "  x_data_val = x_data.values\n",
        "  y_data_val = y_data.values\n",
        "\n",
        "  x_merged = np.concatenate((x_time_val,x_data_val),axis=1)\n",
        "\n",
        "  out_x = []\n",
        "  out_y = []\n",
        "  i = 0\n",
        "  for j in range(len(y_time_val)):\n",
        "    out_y.append(y_data_val[j].tolist())\n",
        "    arr = []\n",
        "    if(i == 0):\n",
        "      arr.append([0,0,0,0,0,0])\n",
        "      arr.append([0,0,0,0,0,0])\n",
        "      arr.append([0,0,0,0,0,0])\n",
        "\n",
        "    while(i < len(x_merged)):\n",
        "      if(x_merged[i][0] < y_time_val[j]):\n",
        "        arr.append(x_data_val[i].tolist())\n",
        "      else:\n",
        "        break\n",
        "\n",
        "      i = i + 1\n",
        "    out_x.append(arr)\n",
        "  \n",
        "  \n",
        "  \n",
        "  print(len(out_x))\n",
        "  print(len(out_y))\n",
        "  out_x_new = np.reshape(out_x,(-1,24))\n",
        "  return out_x_new,out_y"
      ],
      "metadata": {
        "id": "KvmXLiULWXAq"
      },
      "execution_count": 8,
      "outputs": []
    },
    {
      "cell_type": "code",
      "source": [
        "outx,outy = create_dataset(files_x_time[0], files_y_time[0], files_x_data[0], files_y_data[0])"
      ],
      "metadata": {
        "colab": {
          "base_uri": "https://localhost:8080/"
        },
        "id": "R7tqwPUnX4Yq",
        "outputId": "e72c81b4-e81f-4f9d-b6a7-1d25711650aa"
      },
      "execution_count": 9,
      "outputs": [
        {
          "output_type": "stream",
          "name": "stdout",
          "text": [
            "9473\n",
            "9473\n"
          ]
        }
      ]
    },
    {
      "cell_type": "code",
      "source": [
        "outx_numpy = np.array(outx)\n",
        "print(outx_numpy.shape)\n",
        "outy_numpy = np.array(outy)\n",
        "print(outy_numpy.shape)"
      ],
      "metadata": {
        "colab": {
          "base_uri": "https://localhost:8080/"
        },
        "id": "Kl-MAGqSYI6T",
        "outputId": "c1194988-c18c-48b5-dee1-30217b48f9ca"
      },
      "execution_count": 10,
      "outputs": [
        {
          "output_type": "stream",
          "name": "stdout",
          "text": [
            "(9473, 24)\n",
            "(9473, 1)\n"
          ]
        }
      ]
    },
    {
      "cell_type": "code",
      "source": [
        "print(outx_numpy[0:5])"
      ],
      "metadata": {
        "colab": {
          "base_uri": "https://localhost:8080/"
        },
        "id": "mWWw35k-YtlU",
        "outputId": "f9f1dd3e-93e8-42b7-a174-2b98ae8ad0dd"
      },
      "execution_count": 11,
      "outputs": [
        {
          "output_type": "stream",
          "name": "stdout",
          "text": [
            "[[ 0.000000e+00  0.000000e+00  0.000000e+00  0.000000e+00  0.000000e+00\n",
            "   0.000000e+00  0.000000e+00  0.000000e+00  0.000000e+00  0.000000e+00\n",
            "   0.000000e+00  0.000000e+00  0.000000e+00  0.000000e+00  0.000000e+00\n",
            "   0.000000e+00  0.000000e+00  0.000000e+00  4.435275e+00  8.196063e+00\n",
            "   2.974488e+00  1.421523e-02 -3.915695e-02 -1.674437e-02]\n",
            " [ 4.186920e+00  8.344455e+00  2.908057e+00  5.770759e-03 -4.479538e-03\n",
            "  -3.345031e-03  4.544637e+00  8.408659e+00  2.890000e+00  7.967429e-03\n",
            "   2.241187e-02  1.158524e-03  4.849308e+00  8.411614e+00  2.900692e+00\n",
            "   2.777778e-02 -1.067026e-02 -1.422302e-02  4.509190e+00  8.118649e+00\n",
            "   2.847298e+00  2.157696e-02 -4.549827e-02 -2.111111e-02]\n",
            " [ 4.226515e+00  8.273807e+00  2.851742e+00  1.253351e-02  4.453396e-04\n",
            "  -1.682951e-02  4.532063e+00  8.398341e+00  2.856682e+00  1.448428e-02\n",
            "   2.876938e-02 -1.109119e-02  4.433669e+00  8.294719e+00  2.823521e+00\n",
            "   1.633966e-02 -2.943391e-02 -8.997893e-03  4.160676e+00  8.260676e+00\n",
            "   2.827568e+00  1.122162e-02 -1.674805e-02 -6.026728e-03]\n",
            " [ 4.432763e+00  8.272613e+00  2.790050e+00 -2.714629e-03  2.309352e-02\n",
            "   1.222222e-02  4.511362e+00  8.256774e+00  2.820538e+00 -2.247848e-03\n",
            "   1.546742e-03  1.113674e-02  4.098018e+00  8.154184e+00  2.901101e+00\n",
            "  -1.041791e-02 -4.285314e-02  5.031140e-03  3.931769e+00  8.203628e+00\n",
            "   2.958186e+00 -1.523183e-02 -6.176894e-03  1.687657e-02]\n",
            " [ 4.524325e+00  8.446963e+00  2.874356e+00 -3.437972e-03  3.630960e-02\n",
            "   4.545092e-02  4.615744e+00  8.385348e+00  2.782674e+00 -2.789545e-03\n",
            "   1.267713e-02  5.444444e-02  4.392814e+00  8.239121e+00  2.830176e+00\n",
            "   1.527426e-03  1.557605e-02  5.281736e-02  4.633221e+00  8.197211e+00\n",
            "   2.872404e+00 -6.495154e-03  3.982849e-02  4.034302e-02]]\n"
          ]
        }
      ]
    },
    {
      "cell_type": "code",
      "source": [
        "out_x_new = []\n",
        "out_y_new = []\n",
        "\n",
        "for sub_x_time,sub_y_time,sub_x,sub_y in tqdm(zip(files_x_time, files_y_time, files_x_data, files_y_data)):\n",
        "  arrx = []\n",
        "  arry = []\n",
        "  print(sub_x_time)\n",
        "  arrx,arry = create_dataset(sub_x_time, sub_y_time, sub_x, sub_y)\n",
        "  out_x_new.extend(arrx)\n",
        "  out_y_new.extend(arry)"
      ],
      "metadata": {
        "colab": {
          "base_uri": "https://localhost:8080/",
          "height": 1000,
          "referenced_widgets": [
            "5d31721ce51c4d1eb41e96f1a09af7ef",
            "f4081dc66ace486383cf3cb96c48ff78",
            "a6713904e7b047a99554495532372425",
            "5e8427176e4d40e484cac406893d2d1f",
            "1debd66525d34c6c940db5925f9cdd8c",
            "c82ad01203ae4c27aadb054c4d27e54f",
            "22fe4b5aa3c445628574f1a09ff2e939",
            "f90e691155594f7ab40673073c2af8d1",
            "24a2b32071d441b79e1b6bd3f1ddaa30",
            "7ab4bcc7bff34e709f42f4b0d206f5f5",
            "04024b18b11d4a989f8f85752d32f6fd"
          ]
        },
        "id": "8Cu5pFkIZTbv",
        "outputId": "0d254e82-e3ea-429f-9d4b-b42ecf129e90"
      },
      "execution_count": 12,
      "outputs": [
        {
          "output_type": "display_data",
          "data": {
            "text/plain": [
              "0it [00:00, ?it/s]"
            ],
            "application/vnd.jupyter.widget-view+json": {
              "version_major": 2,
              "version_minor": 0,
              "model_id": "5d31721ce51c4d1eb41e96f1a09af7ef"
            }
          },
          "metadata": {}
        },
        {
          "output_type": "stream",
          "name": "stdout",
          "text": [
            "subject_001_01__x_time.csv\n",
            "9473\n",
            "9473\n",
            "subject_001_02__x_time.csv\n",
            "17543\n",
            "17543\n",
            "subject_001_03__x_time.csv\n",
            "10787\n",
            "10787\n",
            "subject_001_04__x_time.csv\n",
            "13739\n",
            "13739\n",
            "subject_001_05__x_time.csv\n",
            "14780\n",
            "14780\n",
            "subject_001_06__x_time.csv\n",
            "9658\n",
            "9658\n",
            "subject_001_07__x_time.csv\n",
            "7856\n",
            "7856\n",
            "subject_001_08__x_time.csv\n",
            "16691\n",
            "16691\n",
            "subject_002_01__x_time.csv\n",
            "14000\n",
            "14000\n",
            "subject_002_02__x_time.csv\n",
            "13850\n",
            "13850\n",
            "subject_002_03__x_time.csv\n",
            "12199\n",
            "12199\n",
            "subject_002_04__x_time.csv\n",
            "12865\n",
            "12865\n",
            "subject_002_05__x_time.csv\n",
            "10580\n",
            "10580\n",
            "subject_003_01__x_time.csv\n",
            "9078\n",
            "9078\n",
            "subject_003_02__x_time.csv\n",
            "11803\n",
            "11803\n",
            "subject_003_03__x_time.csv\n",
            "4883\n",
            "4883\n",
            "subject_004_01__x_time.csv\n",
            "8577\n",
            "8577\n",
            "subject_004_02__x_time.csv\n",
            "8619\n",
            "8619\n",
            "subject_005_01__x_time.csv\n",
            "14020\n",
            "14020\n",
            "subject_005_02__x_time.csv\n",
            "8630\n",
            "8630\n",
            "subject_005_03__x_time.csv\n",
            "11226\n",
            "11226\n",
            "subject_006_01__x_time.csv\n",
            "12031\n",
            "12031\n",
            "subject_006_02__x_time.csv\n",
            "14891\n",
            "14891\n",
            "subject_006_03__x_time.csv\n",
            "11282\n",
            "11282\n",
            "subject_007_01__x_time.csv\n",
            "11550\n",
            "11550\n",
            "subject_007_02__x_time.csv\n",
            "11747\n",
            "11747\n",
            "subject_007_03__x_time.csv\n",
            "11160\n",
            "11160\n",
            "subject_007_04__x_time.csv\n",
            "9860\n",
            "9860\n",
            "subject_008_01__x_time.csv\n",
            "12035\n",
            "12035\n"
          ]
        }
      ]
    },
    {
      "cell_type": "code",
      "source": [
        "# BIGGEST FUNCTIONAL BUG\n",
        "# out_x = []\n",
        "# out_y = []\n",
        "# for sub_x,sub_y in tqdm(zip(files_x_data,files_y_data)):\n",
        "#   print(sub_x)\n",
        "#   data_sub_1_x = pd.read_csv(train_path+'/'+sub_x,header=None)\n",
        "#   data_sub_1_y = pd.read_csv(train_path+'/'+sub_y,header=None)\n",
        "#   data_sub_1_x_val = data_sub_1_x.values                 #-> shape = (37890, 6)\n",
        "#   data_sub_1_y_val = data_sub_1_y.values\n",
        "\n",
        "#   # We remove the first value of the dataset\n",
        "#   y_count = len(data_sub_1_y_val) - 1\n",
        "#   y_count_new = 0\n",
        "#   if(y_count % 4 != 0):\n",
        "#     y_count_new = y_count - (y_count % 4)\n",
        "#   else:\n",
        "#     y_count_new = y_count\n",
        "\n",
        "#   data_sub_1_y_val_new = data_sub_1_y_val[1:y_count_new+1]\n",
        "  \n",
        "#   x_count = len(data_sub_1_x_val) - 1\n",
        "#   x_count_new = y_count_new * 4\n",
        "#   data_sub_1_x_val_new = data_sub_1_x_val[1:x_count_new+1]\n",
        "\n",
        "#   print(len(data_sub_1_x_val_new)/4)\n",
        "#   print(len(data_sub_1_y_val_new))\n",
        "\n",
        "#   for i in range(0,len(data_sub_1_x_val_new),4):\n",
        "#     arr = []\n",
        "#     for j in range(4):\n",
        "#       for k in range(6):\n",
        "#         arr.append(data_sub_1_x_val[i+j][k])\n",
        "#     out_x.append(arr)\n",
        "  \n",
        "#   for x in range(0,y_count_new):\n",
        "#     out_y.append(data_sub_1_y_val[x])"
      ],
      "metadata": {
        "id": "HN3poUOSI4ob"
      },
      "execution_count": 13,
      "outputs": []
    },
    {
      "cell_type": "code",
      "source": [
        "out_x_numpy = np.array(out_x_new)\n",
        "#out_x_numpy = np.reshape(out_x_numpy,(-1,24))\n",
        "print(out_x_numpy.shape)"
      ],
      "metadata": {
        "colab": {
          "base_uri": "https://localhost:8080/"
        },
        "id": "CEIrwrX7L2k0",
        "outputId": "37afa11c-b1b7-4626-b694-791d01f6c8f5"
      },
      "execution_count": 14,
      "outputs": [
        {
          "output_type": "stream",
          "name": "stdout",
          "text": [
            "(335413, 24)\n"
          ]
        }
      ]
    },
    {
      "cell_type": "code",
      "source": [
        "out_y_numpy = np.array(out_y_new)\n",
        "print(out_y_numpy.shape)"
      ],
      "metadata": {
        "colab": {
          "base_uri": "https://localhost:8080/"
        },
        "id": "gmSUhFxHQRer",
        "outputId": "280993d1-eba9-4a24-c175-72ea878ac159"
      },
      "execution_count": 15,
      "outputs": [
        {
          "output_type": "stream",
          "name": "stdout",
          "text": [
            "(335413, 1)\n"
          ]
        }
      ]
    },
    {
      "cell_type": "code",
      "source": [
        "print(out_x_numpy[0:4])"
      ],
      "metadata": {
        "colab": {
          "base_uri": "https://localhost:8080/"
        },
        "id": "xUMWb_Q8ar8u",
        "outputId": "5e868857-1f9e-4fde-b020-2a03824ab728"
      },
      "execution_count": 16,
      "outputs": [
        {
          "output_type": "stream",
          "name": "stdout",
          "text": [
            "[[ 0.000000e+00  0.000000e+00  0.000000e+00  0.000000e+00  0.000000e+00\n",
            "   0.000000e+00  0.000000e+00  0.000000e+00  0.000000e+00  0.000000e+00\n",
            "   0.000000e+00  0.000000e+00  0.000000e+00  0.000000e+00  0.000000e+00\n",
            "   0.000000e+00  0.000000e+00  0.000000e+00  4.435275e+00  8.196063e+00\n",
            "   2.974488e+00  1.421523e-02 -3.915695e-02 -1.674437e-02]\n",
            " [ 4.186920e+00  8.344455e+00  2.908057e+00  5.770759e-03 -4.479538e-03\n",
            "  -3.345031e-03  4.544637e+00  8.408659e+00  2.890000e+00  7.967429e-03\n",
            "   2.241187e-02  1.158524e-03  4.849308e+00  8.411614e+00  2.900692e+00\n",
            "   2.777778e-02 -1.067026e-02 -1.422302e-02  4.509190e+00  8.118649e+00\n",
            "   2.847298e+00  2.157696e-02 -4.549827e-02 -2.111111e-02]\n",
            " [ 4.226515e+00  8.273807e+00  2.851742e+00  1.253351e-02  4.453396e-04\n",
            "  -1.682951e-02  4.532063e+00  8.398341e+00  2.856682e+00  1.448428e-02\n",
            "   2.876938e-02 -1.109119e-02  4.433669e+00  8.294719e+00  2.823521e+00\n",
            "   1.633966e-02 -2.943391e-02 -8.997893e-03  4.160676e+00  8.260676e+00\n",
            "   2.827568e+00  1.122162e-02 -1.674805e-02 -6.026728e-03]\n",
            " [ 4.432763e+00  8.272613e+00  2.790050e+00 -2.714629e-03  2.309352e-02\n",
            "   1.222222e-02  4.511362e+00  8.256774e+00  2.820538e+00 -2.247848e-03\n",
            "   1.546742e-03  1.113674e-02  4.098018e+00  8.154184e+00  2.901101e+00\n",
            "  -1.041791e-02 -4.285314e-02  5.031140e-03  3.931769e+00  8.203628e+00\n",
            "   2.958186e+00 -1.523183e-02 -6.176894e-03  1.687657e-02]]\n"
          ]
        }
      ]
    },
    {
      "cell_type": "code",
      "source": [
        "from sklearn.model_selection import train_test_split\n",
        "X_train, X_val, y_train, y_val = train_test_split(out_x_numpy, out_y_numpy, test_size=0.33, random_state=42,stratify=out_y_numpy)\n",
        "print(X_train.shape)\n",
        "print(X_val.shape)\n",
        "print(y_train.shape)\n",
        "print(y_val.shape)"
      ],
      "metadata": {
        "colab": {
          "base_uri": "https://localhost:8080/"
        },
        "id": "71AgpfXIMkZf",
        "outputId": "a5700386-cfc2-4c3a-963b-ed94afa5c556"
      },
      "execution_count": 17,
      "outputs": [
        {
          "output_type": "stream",
          "name": "stdout",
          "text": [
            "(224726, 24)\n",
            "(110687, 24)\n",
            "(224726, 1)\n",
            "(110687, 1)\n"
          ]
        }
      ]
    },
    {
      "cell_type": "code",
      "source": [
        "from collections import Counter\n",
        "counter = Counter(y_train.squeeze(1).tolist())\n",
        "print(counter)"
      ],
      "metadata": {
        "colab": {
          "base_uri": "https://localhost:8080/"
        },
        "id": "ZdiDXlpMGYDw",
        "outputId": "dff8d801-a8a3-4244-c478-b073ab7c86a9"
      },
      "execution_count": 18,
      "outputs": [
        {
          "output_type": "stream",
          "name": "stdout",
          "text": [
            "Counter({0: 168660, 3: 34578, 2: 12239, 1: 9249})\n"
          ]
        }
      ]
    },
    {
      "cell_type": "code",
      "source": [
        "from imblearn.over_sampling import SMOTE\n",
        "oversample = SMOTE()\n",
        "X_train_new_out, y_train_new_out = oversample.fit_resample(X_train,y_train)"
      ],
      "metadata": {
        "id": "MfnUWHspGfAI"
      },
      "execution_count": 19,
      "outputs": []
    },
    {
      "cell_type": "code",
      "source": [
        "y_train_new_out = y_train_new_out.reshape(-1,1)"
      ],
      "metadata": {
        "id": "-y_nQCDXGn4Q"
      },
      "execution_count": 20,
      "outputs": []
    },
    {
      "cell_type": "code",
      "source": [
        "scalar = StandardScaler()\n",
        "X_train_new_out_transformed = scalar.fit_transform(X_train_new_out)"
      ],
      "metadata": {
        "id": "Bacxg8E3cDHV"
      },
      "execution_count": 21,
      "outputs": []
    },
    {
      "cell_type": "code",
      "source": [
        "X_train_new_out_new = np.reshape(X_train_new_out_transformed,(-1,4,6))\n",
        "print(X_train_new_out_new.shape)"
      ],
      "metadata": {
        "colab": {
          "base_uri": "https://localhost:8080/"
        },
        "id": "OUp6j_4zGlIQ",
        "outputId": "43e5a2c1-650c-43ff-88a9-6d8a19258b92"
      },
      "execution_count": 22,
      "outputs": [
        {
          "output_type": "stream",
          "name": "stdout",
          "text": [
            "(674640, 4, 6)\n"
          ]
        }
      ]
    },
    {
      "cell_type": "code",
      "source": [
        "X_train_new_out_new[0:4]"
      ],
      "metadata": {
        "colab": {
          "base_uri": "https://localhost:8080/"
        },
        "id": "ixi_Tgu6b4K9",
        "outputId": "97c13832-0b1a-478a-ebaa-2bb4b1a23c6d"
      },
      "execution_count": 23,
      "outputs": [
        {
          "output_type": "execute_result",
          "data": {
            "text/plain": [
              "array([[[-4.71087410e-01, -1.15004161e+00,  9.16366510e-01,\n",
              "         -5.45240409e-01, -8.90140205e-01, -3.90590525e-02],\n",
              "        [-1.08609280e+00, -2.50681847e-01,  8.19226254e-01,\n",
              "         -1.25144004e+00, -3.30635903e-01,  1.33820702e+00],\n",
              "        [-5.31855026e-01,  1.10318037e+00,  7.39367755e-02,\n",
              "         -6.11153664e-01,  1.24501901e+00,  1.49388843e+00],\n",
              "        [ 4.69815568e-03, -9.03993379e-01,  1.47792997e+00,\n",
              "         -3.87993316e-01,  1.85727518e+00,  1.11864074e+00]],\n",
              "\n",
              "       [[ 2.74645266e-01,  3.57128359e-01, -4.84461992e-01,\n",
              "         -2.49752333e-01,  1.71912610e-01, -3.76317125e-01],\n",
              "        [ 4.23443157e-01,  1.63986200e-01, -6.02962687e-01,\n",
              "         -2.13233363e-01, -3.93133673e-01, -6.07504742e-01],\n",
              "        [-9.24189702e-01,  2.07998551e-01, -3.43505593e-01,\n",
              "         -1.94057597e-01, -8.35669855e-01, -5.60147269e-01],\n",
              "        [-8.73746118e-01,  1.97189280e-01, -3.87089819e-01,\n",
              "         -1.64170726e-01, -2.09692137e-01, -1.18215101e-01]],\n",
              "\n",
              "       [[ 4.30948282e-01, -8.60488586e-01,  1.52629275e+00,\n",
              "          2.11489539e+00,  4.28871905e-01, -4.36106794e-01],\n",
              "        [-3.40789449e-02, -5.45197679e-01,  1.34499472e+00,\n",
              "          2.25993082e+00, -1.54636676e-03, -8.83348586e-02],\n",
              "        [-8.14933008e-01,  1.75128667e-01,  1.24249571e+00,\n",
              "          2.13426930e+00,  2.61407243e-01, -6.74447605e-01],\n",
              "        [-1.11791958e+00, -3.08489850e-01,  6.22236116e-01,\n",
              "          1.89114945e+00,  6.78394854e-01, -7.07358425e-01]],\n",
              "\n",
              "       [[ 3.46745128e-01,  5.14428576e-01,  1.13369308e+00,\n",
              "          2.75867140e+00,  8.77535030e-01, -1.24680268e+00],\n",
              "        [ 8.73165119e-01, -6.24316970e-01, -3.43408449e-01,\n",
              "          2.40787920e+00,  8.64549975e-01, -1.43322324e+00],\n",
              "        [-3.90923308e-01, -2.20901118e+00, -6.77659471e-01,\n",
              "          1.21524856e+00,  7.70248543e-01, -1.81545750e+00],\n",
              "        [-1.08434133e+00, -3.01925571e+00, -2.06975938e+00,\n",
              "          4.82400314e-01,  4.96007046e-01, -9.71254877e-01]]])"
            ]
          },
          "metadata": {},
          "execution_count": 23
        }
      ]
    },
    {
      "cell_type": "code",
      "source": [
        "print(y_train_new_out.shape)"
      ],
      "metadata": {
        "colab": {
          "base_uri": "https://localhost:8080/"
        },
        "id": "G9oqRs-Ub8jl",
        "outputId": "31461475-636e-45b2-dc0f-7bdbb8145b4a"
      },
      "execution_count": 24,
      "outputs": [
        {
          "output_type": "stream",
          "name": "stdout",
          "text": [
            "(674640, 1)\n"
          ]
        }
      ]
    },
    {
      "cell_type": "code",
      "source": [
        "device = torch.device(\"cuda:0\" if torch.cuda.is_available() else \"cpu\")\n",
        "print(device)"
      ],
      "metadata": {
        "colab": {
          "base_uri": "https://localhost:8080/"
        },
        "id": "Vu41YjKeSmXC",
        "outputId": "8afa7879-80c8-4870-a1fc-b6352c060d0e"
      },
      "execution_count": 25,
      "outputs": [
        {
          "output_type": "stream",
          "name": "stdout",
          "text": [
            "cuda:0\n"
          ]
        }
      ]
    },
    {
      "cell_type": "code",
      "source": [
        "weights_dict = {'SolidGnd':0,'stairs_down':0,'stairs_up':0,'grass_walk':0}\n",
        "for i in range(len(y_train_new_out)):\n",
        "  if y_train_new_out[i] == 0:\n",
        "    weights_dict['SolidGnd'] += 1\n",
        "  elif y_train_new_out[i] == 1:\n",
        "    weights_dict['stairs_down'] += 1\n",
        "  elif y_train_new_out[i] == 2:\n",
        "    weights_dict['stairs_up'] += 1\n",
        "  elif y_train_new_out[i] == 3:\n",
        "    weights_dict['grass_walk'] += 1\n",
        "\n",
        "weights_dict['SolidGnd'] = weights_dict['SolidGnd']/len(y_train_new_out)\n",
        "weights_dict['stairs_down'] = weights_dict['stairs_down']/len(y_train_new_out)\n",
        "weights_dict['stairs_up'] = weights_dict['stairs_up']/len(y_train_new_out)\n",
        "weights_dict['grass_walk'] = weights_dict['grass_walk']/len(y_train_new_out)\n",
        "print(weights_dict)"
      ],
      "metadata": {
        "colab": {
          "base_uri": "https://localhost:8080/"
        },
        "id": "h0x-mp3kIW5m",
        "outputId": "e818d2cd-f931-434d-f8a1-6e601111a143"
      },
      "execution_count": 26,
      "outputs": [
        {
          "output_type": "stream",
          "name": "stdout",
          "text": [
            "{'SolidGnd': 0.25, 'stairs_down': 0.25, 'stairs_up': 0.25, 'grass_walk': 0.25}\n"
          ]
        }
      ]
    },
    {
      "cell_type": "code",
      "source": [
        "X_val = scalar.transform(X_val)\n",
        "X_val = np.reshape(X_val,(-1,4,6))\n"
      ],
      "metadata": {
        "id": "qmSq4uTZPeq_"
      },
      "execution_count": 27,
      "outputs": []
    },
    {
      "cell_type": "code",
      "source": [
        "X_val.shape"
      ],
      "metadata": {
        "colab": {
          "base_uri": "https://localhost:8080/"
        },
        "id": "fXcjn2baPjvm",
        "outputId": "253f94f6-543c-43c7-d5a9-8107f35af32f"
      },
      "execution_count": 28,
      "outputs": [
        {
          "output_type": "execute_result",
          "data": {
            "text/plain": [
              "(110687, 4, 6)"
            ]
          },
          "metadata": {},
          "execution_count": 28
        }
      ]
    },
    {
      "cell_type": "code",
      "source": [
        "from torch.utils.data import Dataset, DataLoader\n",
        "from PIL import Image \n",
        "import skimage.transform as skTrans\n",
        "\n",
        "class Terrain_classification(Dataset):\n",
        "  def __init__(self,train,transform=None):\n",
        "    self.train = train\n",
        "    self.transform = transform\n",
        "\n",
        "  def __len__(self):\n",
        "    if(self.train):\n",
        "      return len(X_train_new_out_new)\n",
        "    else:\n",
        "      return len(X_val)\n",
        "\n",
        "  def __getitem__(self,idx):\n",
        "    if(self.train):\n",
        "      data = X_train_new_out_new[idx]\n",
        "      #data = np.transpose(data,(2,0,1))\n",
        "      label = y_train_new_out[idx]\n",
        "    else:\n",
        "      data = X_val[idx]\n",
        "      #data = np.transpose(data,(2,0,1))\n",
        "      label = y_val[idx]\n",
        "    \n",
        "    if self.transform:\n",
        "      tensor_data = torch.Tensor(data)\n",
        "      tensor_label = torch.Tensor(label)\n",
        "\n",
        "    return tensor_data,tensor_label"
      ],
      "metadata": {
        "id": "1GT55NvZJBUk"
      },
      "execution_count": 29,
      "outputs": []
    },
    {
      "cell_type": "code",
      "source": [
        "batch_size = 32\n",
        "train_set = Terrain_classification(train=True,transform=transforms.Compose([transforms.ToTensor()]))\n",
        "train_loader = torch.utils.data.DataLoader(train_set,batch_size=batch_size,shuffle=True)\n",
        "\n",
        "test_set = Terrain_classification(train=False,transform=transforms.Compose([transforms.ToTensor()]))\n",
        "test_loader = torch.utils.data.DataLoader(test_set,batch_size=batch_size, shuffle=False)"
      ],
      "metadata": {
        "id": "m61V-rIeKhC8"
      },
      "execution_count": 30,
      "outputs": []
    },
    {
      "cell_type": "code",
      "source": [
        "weights = [weights_dict['SolidGnd'],weights_dict['stairs_down'],weights_dict['stairs_up'],weights_dict['grass_walk']]\n",
        "print(weights)"
      ],
      "metadata": {
        "colab": {
          "base_uri": "https://localhost:8080/"
        },
        "id": "OlF8fVmMLPmC",
        "outputId": "295d1e03-362f-45a5-89db-96bf62f360f3"
      },
      "execution_count": 31,
      "outputs": [
        {
          "output_type": "stream",
          "name": "stdout",
          "text": [
            "[0.25, 0.25, 0.25, 0.25]\n"
          ]
        }
      ]
    },
    {
      "cell_type": "code",
      "source": [
        "class_weights = torch.FloatTensor(weights).cuda()\n",
        "loss_fn = nn.CrossEntropyLoss(weight=class_weights)"
      ],
      "metadata": {
        "id": "uaUn98udLBNk"
      },
      "execution_count": 32,
      "outputs": []
    },
    {
      "cell_type": "code",
      "source": [
        "import torch.nn as nn\n",
        "\n",
        "# class RNN(nn.Module):\n",
        "#     def __init__(self, input_size, hidden_size, output_size):\n",
        "#         super(RNN, self).__init__()\n",
        "\n",
        "#         self.hidden_size = hidden_size\n",
        "\n",
        "#         self.g = nn.Linear(input_size + hidden_size, hidden_size)\n",
        "#         self.f = nn.Linear(input_size + hidden_size, output_size)\n",
        "\n",
        "#     def forward(self, input, hidden):\n",
        "#         combined = torch.cat((input, hidden), 1)\n",
        "#         hidden = self.g(combined)\n",
        "#         output = self.f(combined)\n",
        "#         return output, hidden\n",
        "\n",
        "#     def initHidden(self):\n",
        "#         return torch.zeros(1, self.hidden_size)\n",
        "\n",
        "\n",
        "\n",
        "# class RNN(nn.Module):\n",
        "#     def __init__(self, input_size, hidden_size, output_size):\n",
        "#         super(RNN, self).__init__()\n",
        "#         self.hidden_size = hidden_size\n",
        "#         self.i2h = nn.Linear(input_size + hidden_size, hidden_size)\n",
        "#         self.i2o = nn.Linear(input_size + hidden_size, output_size)\n",
        "#         self.softmax = nn.LogSoftmax(dim=1)\n",
        "\n",
        "#     def forward(self, input_, hidden):      \n",
        "#         print(input_.shape)\n",
        "#         print(hidden.shape)\n",
        "#         combined = torch.cat((input_, hidden), 1)\n",
        "#         hidden = self.i2h(combined)\n",
        "#         output = self.i2o(combined)\n",
        "#         output = self.softmax(output)\n",
        "#         return output, hidden\n",
        "\n",
        "#     def init_hidden(self):\n",
        "#         return torch.zeros(1, self.hidden_size)\n",
        "\n",
        "\n",
        "class RNN(nn.Module):\n",
        "    def __init__(self, input_size, hidden_size, num_layers, output_size):\n",
        "        super(RNN, self).__init__()\n",
        "        self.hidden_size = hidden_size\n",
        "        self.num_layers = num_layers\n",
        "        self.num_directions = 2\n",
        "        self.rnn = nn.LSTM(input_size, hidden_size, num_layers, batch_first=True,bidirectional=True)\n",
        "        self.fc1 = nn.Linear(2*hidden_size, 256)\n",
        "        self.relu = nn.ReLU()\n",
        "        self.fc2 = nn.Linear(256, output_size)\n",
        "        \n",
        "\n",
        "    def forward(self, x):\n",
        "        #h0 = torch.zeros(self.num_layers, x.size(0), self.hidden_size).to(device)\n",
        "        # for lstm\n",
        "        h_0 = torch.randn(self.num_directions * self.num_layers, x.size(0), self.hidden_size).to(device)\n",
        "        c_0 = torch.randn(self.num_directions * self.num_layers, x.size(0), self.hidden_size).to(device)\n",
        "        out, _ = self.rnn(x, (h_0,c_0))\n",
        "        out = self.relu(self.fc1(out[:, -1, :]))\n",
        "        out = self.fc2(out)\n",
        "        return out"
      ],
      "metadata": {
        "id": "gUE416gSpDuZ"
      },
      "execution_count": 33,
      "outputs": []
    },
    {
      "cell_type": "code",
      "source": [
        "model = RNN(input_size=6, hidden_size=200, num_layers=4, output_size=4)\n",
        "model = model.to(device)"
      ],
      "metadata": {
        "id": "BgiNyVEdMITG"
      },
      "execution_count": 34,
      "outputs": []
    },
    {
      "cell_type": "code",
      "source": [
        "input = torch.rand((1,4,6))\n",
        "input = input.to(device)\n",
        "model(input)"
      ],
      "metadata": {
        "colab": {
          "base_uri": "https://localhost:8080/"
        },
        "id": "vhbKT3ppBAcE",
        "outputId": "17d03f08-de88-41cf-c85d-d1fea2e41039"
      },
      "execution_count": 35,
      "outputs": [
        {
          "output_type": "execute_result",
          "data": {
            "text/plain": [
              "tensor([[ 0.0887,  0.0445, -0.0343, -0.0230]], device='cuda:0',\n",
              "       grad_fn=<AddmmBackward0>)"
            ]
          },
          "metadata": {},
          "execution_count": 35
        }
      ]
    },
    {
      "cell_type": "code",
      "source": [
        "display(model)"
      ],
      "metadata": {
        "colab": {
          "base_uri": "https://localhost:8080/",
          "height": 121
        },
        "id": "xMI0Gn2hqTwI",
        "outputId": "69c5cdda-ffea-426b-d313-4dd15c50e60e"
      },
      "execution_count": 36,
      "outputs": [
        {
          "output_type": "display_data",
          "data": {
            "text/plain": [
              "RNN(\n",
              "  (rnn): LSTM(6, 200, num_layers=4, batch_first=True, bidirectional=True)\n",
              "  (fc1): Linear(in_features=400, out_features=256, bias=True)\n",
              "  (relu): ReLU()\n",
              "  (fc2): Linear(in_features=256, out_features=4, bias=True)\n",
              ")"
            ]
          },
          "metadata": {}
        }
      ]
    },
    {
      "cell_type": "code",
      "source": [
        "import torch.optim as optim\n",
        "import torch.nn as nn\n",
        "\n",
        "opt = optim.Adam(model.parameters(),lr=1E-4)"
      ],
      "metadata": {
        "id": "9HgNUgpnLdIf"
      },
      "execution_count": 37,
      "outputs": []
    },
    {
      "cell_type": "code",
      "source": [
        "def evaluation(dataloader):\n",
        "  with torch.no_grad():\n",
        "    total,correct = 0,0\n",
        "    for data in dataloader:\n",
        "      inputs,labels = data\n",
        "      inputs,labels = inputs.to(device),labels.to(device,dtype=torch.long)\n",
        "      labels = torch.squeeze(labels,1)\n",
        "      # hidden = model.init_hidden()\n",
        "      # hidden = hidden.to(device)\n",
        "      #for i in range(inputs.size()[0]):\n",
        "      outputs = model(inputs)\n",
        "      #outputs = model(inputs)\n",
        "      _,pred = torch.max(outputs.data,1) \n",
        "      total += labels.size(0)\n",
        "      correct += (pred==labels).sum().item()\n",
        "    \n",
        "    return 100*correct/total"
      ],
      "metadata": {
        "id": "RLqrl7WmMTyO"
      },
      "execution_count": 38,
      "outputs": []
    },
    {
      "cell_type": "code",
      "source": [
        "from tqdm import tqdm\n",
        "import matplotlib.pyplot as plt\n",
        "loss_array = []\n",
        "loss_epoch_array = []\n",
        "maximum_epochs = 50\n",
        "\n",
        "\n",
        "for epoch_num in tqdm(range(maximum_epochs)):\n",
        "  for i, data in enumerate(train_loader,0):\n",
        "    inputs, labels = data\n",
        "    inputs,labels = inputs.to(device),labels.to(device,dtype=torch.long)\n",
        "    # hidden = model.init_hidden()\n",
        "    # hidden = hidden.to(device)\n",
        "    opt.zero_grad()\n",
        "    #print(inputs.shape)\n",
        "    outputs = model(inputs)\n",
        "    # for i in range(inputs.size()[0]):\n",
        "    #     outputs, hidden = model(inputs[i], hidden)\n",
        "\n",
        "    labels = torch.squeeze(labels,1)\n",
        "    loss = loss_fn(outputs,labels)\n",
        "    loss.backward()\n",
        "    opt.step()\n",
        "    del inputs,labels\n",
        "\n",
        "    loss_array.append(loss.item())\n",
        "\n",
        "  PATH = '/content/' + 'model_' + str(epoch_num) + '.pt'\n",
        "  loss_epoch_array.append(loss.item())\n",
        "\n",
        "  print('Epoch Num= %d/%d, Train Accuracy: %0.2f, Test Accuracy: %0.2f '%(epoch_num,maximum_epochs,evaluation(train_loader),\n",
        "        evaluation(test_loader)))\n",
        "  torch.save({\n",
        "            'epoch': epoch_num,\n",
        "            'model_state_dict': model.state_dict(),\n",
        "            'optimizer_state_dict': opt.state_dict(),\n",
        "            'loss': loss.item(),\n",
        "            }, PATH)\n",
        "\n",
        "plt.plot(loss_epoch_array)\n",
        "plt.show()"
      ],
      "metadata": {
        "colab": {
          "base_uri": "https://localhost:8080/",
          "height": 1000
        },
        "id": "54LqlYbtMa0B",
        "outputId": "3fa70597-8b9d-422b-dda2-738026871107"
      },
      "execution_count": 39,
      "outputs": [
        {
          "output_type": "stream",
          "name": "stderr",
          "text": [
            "  2%|▏         | 1/50 [03:32<2:53:44, 212.75s/it]"
          ]
        },
        {
          "output_type": "stream",
          "name": "stdout",
          "text": [
            "Epoch Num= 0/50, Train Accuracy: 77.67, Test Accuracy: 62.65 \n"
          ]
        },
        {
          "output_type": "stream",
          "name": "stderr",
          "text": [
            "\r  4%|▍         | 2/50 [07:02<2:48:57, 211.21s/it]"
          ]
        },
        {
          "output_type": "stream",
          "name": "stdout",
          "text": [
            "Epoch Num= 1/50, Train Accuracy: 82.77, Test Accuracy: 67.40 \n"
          ]
        },
        {
          "output_type": "stream",
          "name": "stderr",
          "text": [
            "\r  6%|▌         | 3/50 [10:35<2:46:00, 211.94s/it]"
          ]
        },
        {
          "output_type": "stream",
          "name": "stdout",
          "text": [
            "Epoch Num= 2/50, Train Accuracy: 85.59, Test Accuracy: 71.89 \n"
          ]
        },
        {
          "output_type": "stream",
          "name": "stderr",
          "text": [
            "\r  8%|▊         | 4/50 [14:05<2:41:44, 210.97s/it]"
          ]
        },
        {
          "output_type": "stream",
          "name": "stdout",
          "text": [
            "Epoch Num= 3/50, Train Accuracy: 87.47, Test Accuracy: 76.26 \n"
          ]
        },
        {
          "output_type": "stream",
          "name": "stderr",
          "text": [
            "\r 10%|█         | 5/50 [17:36<2:38:19, 211.10s/it]"
          ]
        },
        {
          "output_type": "stream",
          "name": "stdout",
          "text": [
            "Epoch Num= 4/50, Train Accuracy: 89.21, Test Accuracy: 79.19 \n"
          ]
        },
        {
          "output_type": "stream",
          "name": "stderr",
          "text": [
            "\r 12%|█▏        | 6/50 [21:04<2:33:59, 209.99s/it]"
          ]
        },
        {
          "output_type": "stream",
          "name": "stdout",
          "text": [
            "Epoch Num= 5/50, Train Accuracy: 90.42, Test Accuracy: 79.27 \n"
          ]
        },
        {
          "output_type": "stream",
          "name": "stderr",
          "text": [
            "\r 14%|█▍        | 7/50 [24:33<2:30:21, 209.81s/it]"
          ]
        },
        {
          "output_type": "stream",
          "name": "stdout",
          "text": [
            "Epoch Num= 6/50, Train Accuracy: 91.36, Test Accuracy: 78.93 \n"
          ]
        },
        {
          "output_type": "stream",
          "name": "stderr",
          "text": [
            "\r 16%|█▌        | 8/50 [28:00<2:26:13, 208.90s/it]"
          ]
        },
        {
          "output_type": "stream",
          "name": "stdout",
          "text": [
            "Epoch Num= 7/50, Train Accuracy: 91.86, Test Accuracy: 81.45 \n"
          ]
        },
        {
          "output_type": "stream",
          "name": "stderr",
          "text": [
            "\r 18%|█▊        | 9/50 [31:27<2:22:17, 208.23s/it]"
          ]
        },
        {
          "output_type": "stream",
          "name": "stdout",
          "text": [
            "Epoch Num= 8/50, Train Accuracy: 92.97, Test Accuracy: 81.07 \n"
          ]
        },
        {
          "output_type": "stream",
          "name": "stderr",
          "text": [
            "\r 20%|██        | 10/50 [34:54<2:18:37, 207.93s/it]"
          ]
        },
        {
          "output_type": "stream",
          "name": "stdout",
          "text": [
            "Epoch Num= 9/50, Train Accuracy: 93.43, Test Accuracy: 80.73 \n"
          ]
        },
        {
          "output_type": "stream",
          "name": "stderr",
          "text": [
            "\r 22%|██▏       | 11/50 [38:21<2:14:54, 207.56s/it]"
          ]
        },
        {
          "output_type": "stream",
          "name": "stdout",
          "text": [
            "Epoch Num= 10/50, Train Accuracy: 93.96, Test Accuracy: 82.30 \n"
          ]
        },
        {
          "output_type": "stream",
          "name": "stderr",
          "text": [
            "\r 24%|██▍       | 12/50 [41:47<2:11:08, 207.07s/it]"
          ]
        },
        {
          "output_type": "stream",
          "name": "stdout",
          "text": [
            "Epoch Num= 11/50, Train Accuracy: 94.74, Test Accuracy: 81.59 \n"
          ]
        },
        {
          "output_type": "stream",
          "name": "stderr",
          "text": [
            "\r 26%|██▌       | 13/50 [45:12<2:07:22, 206.55s/it]"
          ]
        },
        {
          "output_type": "stream",
          "name": "stdout",
          "text": [
            "Epoch Num= 12/50, Train Accuracy: 95.18, Test Accuracy: 82.01 \n"
          ]
        },
        {
          "output_type": "stream",
          "name": "stderr",
          "text": [
            "\r 28%|██▊       | 14/50 [48:38<2:03:45, 206.27s/it]"
          ]
        },
        {
          "output_type": "stream",
          "name": "stdout",
          "text": [
            "Epoch Num= 13/50, Train Accuracy: 95.36, Test Accuracy: 82.01 \n"
          ]
        },
        {
          "output_type": "stream",
          "name": "stderr",
          "text": [
            "\r 30%|███       | 15/50 [52:03<2:00:04, 205.84s/it]"
          ]
        },
        {
          "output_type": "stream",
          "name": "stdout",
          "text": [
            "Epoch Num= 14/50, Train Accuracy: 95.94, Test Accuracy: 81.89 \n"
          ]
        },
        {
          "output_type": "stream",
          "name": "stderr",
          "text": [
            "\r 32%|███▏      | 16/50 [55:28<1:56:33, 205.71s/it]"
          ]
        },
        {
          "output_type": "stream",
          "name": "stdout",
          "text": [
            "Epoch Num= 15/50, Train Accuracy: 96.37, Test Accuracy: 82.97 \n"
          ]
        },
        {
          "output_type": "stream",
          "name": "stderr",
          "text": [
            "\r 34%|███▍      | 17/50 [58:53<1:53:04, 205.58s/it]"
          ]
        },
        {
          "output_type": "stream",
          "name": "stdout",
          "text": [
            "Epoch Num= 16/50, Train Accuracy: 96.22, Test Accuracy: 83.52 \n"
          ]
        },
        {
          "output_type": "stream",
          "name": "stderr",
          "text": [
            "\r 36%|███▌      | 18/50 [1:02:19<1:49:35, 205.48s/it]"
          ]
        },
        {
          "output_type": "stream",
          "name": "stdout",
          "text": [
            "Epoch Num= 17/50, Train Accuracy: 96.86, Test Accuracy: 83.80 \n"
          ]
        },
        {
          "output_type": "stream",
          "name": "stderr",
          "text": [
            "\r 38%|███▊      | 19/50 [1:05:43<1:46:00, 205.17s/it]"
          ]
        },
        {
          "output_type": "stream",
          "name": "stdout",
          "text": [
            "Epoch Num= 18/50, Train Accuracy: 97.12, Test Accuracy: 82.74 \n"
          ]
        },
        {
          "output_type": "stream",
          "name": "stderr",
          "text": [
            "\r 40%|████      | 20/50 [1:09:07<1:42:26, 204.89s/it]"
          ]
        },
        {
          "output_type": "stream",
          "name": "stdout",
          "text": [
            "Epoch Num= 19/50, Train Accuracy: 97.44, Test Accuracy: 83.43 \n"
          ]
        },
        {
          "output_type": "stream",
          "name": "stderr",
          "text": [
            "\r 42%|████▏     | 21/50 [1:12:32<1:39:01, 204.87s/it]"
          ]
        },
        {
          "output_type": "stream",
          "name": "stdout",
          "text": [
            "Epoch Num= 20/50, Train Accuracy: 97.40, Test Accuracy: 83.08 \n"
          ]
        },
        {
          "output_type": "stream",
          "name": "stderr",
          "text": [
            "\r 44%|████▍     | 22/50 [1:15:58<1:35:40, 205.01s/it]"
          ]
        },
        {
          "output_type": "stream",
          "name": "stdout",
          "text": [
            "Epoch Num= 21/50, Train Accuracy: 97.75, Test Accuracy: 83.37 \n"
          ]
        },
        {
          "output_type": "stream",
          "name": "stderr",
          "text": [
            "\r 46%|████▌     | 23/50 [1:19:22<1:32:09, 204.81s/it]"
          ]
        },
        {
          "output_type": "stream",
          "name": "stdout",
          "text": [
            "Epoch Num= 22/50, Train Accuracy: 97.82, Test Accuracy: 82.98 \n"
          ]
        },
        {
          "output_type": "stream",
          "name": "stderr",
          "text": [
            "\r 48%|████▊     | 24/50 [1:22:46<1:28:41, 204.68s/it]"
          ]
        },
        {
          "output_type": "stream",
          "name": "stdout",
          "text": [
            "Epoch Num= 23/50, Train Accuracy: 98.00, Test Accuracy: 83.51 \n"
          ]
        },
        {
          "output_type": "stream",
          "name": "stderr",
          "text": [
            "\r 50%|█████     | 25/50 [1:26:12<1:25:26, 205.05s/it]"
          ]
        },
        {
          "output_type": "stream",
          "name": "stdout",
          "text": [
            "Epoch Num= 24/50, Train Accuracy: 98.03, Test Accuracy: 84.14 \n"
          ]
        },
        {
          "output_type": "stream",
          "name": "stderr",
          "text": [
            "\r 52%|█████▏    | 26/50 [1:29:39<1:22:12, 205.50s/it]"
          ]
        },
        {
          "output_type": "stream",
          "name": "stdout",
          "text": [
            "Epoch Num= 25/50, Train Accuracy: 98.31, Test Accuracy: 83.52 \n"
          ]
        },
        {
          "output_type": "stream",
          "name": "stderr",
          "text": [
            "\r 54%|█████▍    | 27/50 [1:33:04<1:18:48, 205.58s/it]"
          ]
        },
        {
          "output_type": "stream",
          "name": "stdout",
          "text": [
            "Epoch Num= 26/50, Train Accuracy: 98.26, Test Accuracy: 83.86 \n"
          ]
        },
        {
          "output_type": "stream",
          "name": "stderr",
          "text": [
            "\r 56%|█████▌    | 28/50 [1:36:30<1:15:24, 205.67s/it]"
          ]
        },
        {
          "output_type": "stream",
          "name": "stdout",
          "text": [
            "Epoch Num= 27/50, Train Accuracy: 98.21, Test Accuracy: 84.26 \n"
          ]
        },
        {
          "output_type": "stream",
          "name": "stderr",
          "text": [
            "\r 58%|█████▊    | 29/50 [1:39:57<1:12:03, 205.87s/it]"
          ]
        },
        {
          "output_type": "stream",
          "name": "stdout",
          "text": [
            "Epoch Num= 28/50, Train Accuracy: 98.45, Test Accuracy: 83.85 \n"
          ]
        },
        {
          "output_type": "stream",
          "name": "stderr",
          "text": [
            "\r 60%|██████    | 30/50 [1:43:24<1:08:44, 206.21s/it]"
          ]
        },
        {
          "output_type": "stream",
          "name": "stdout",
          "text": [
            "Epoch Num= 29/50, Train Accuracy: 98.57, Test Accuracy: 84.30 \n"
          ]
        },
        {
          "output_type": "stream",
          "name": "stderr",
          "text": [
            "\r 62%|██████▏   | 31/50 [1:46:49<1:05:11, 205.86s/it]"
          ]
        },
        {
          "output_type": "stream",
          "name": "stdout",
          "text": [
            "Epoch Num= 30/50, Train Accuracy: 98.59, Test Accuracy: 83.37 \n"
          ]
        },
        {
          "output_type": "stream",
          "name": "stderr",
          "text": [
            "\r 64%|██████▍   | 32/50 [1:50:13<1:01:39, 205.53s/it]"
          ]
        },
        {
          "output_type": "stream",
          "name": "stdout",
          "text": [
            "Epoch Num= 31/50, Train Accuracy: 98.75, Test Accuracy: 83.80 \n"
          ]
        },
        {
          "output_type": "stream",
          "name": "stderr",
          "text": [
            "\r 66%|██████▌   | 33/50 [1:53:39<58:16, 205.66s/it]  "
          ]
        },
        {
          "output_type": "stream",
          "name": "stdout",
          "text": [
            "Epoch Num= 32/50, Train Accuracy: 98.66, Test Accuracy: 84.53 \n"
          ]
        },
        {
          "output_type": "stream",
          "name": "stderr",
          "text": [
            "\r 68%|██████▊   | 34/50 [1:57:05<54:48, 205.53s/it]"
          ]
        },
        {
          "output_type": "stream",
          "name": "stdout",
          "text": [
            "Epoch Num= 33/50, Train Accuracy: 98.80, Test Accuracy: 83.98 \n"
          ]
        },
        {
          "output_type": "stream",
          "name": "stderr",
          "text": [
            "\r 70%|███████   | 35/50 [2:00:30<51:21, 205.44s/it]"
          ]
        },
        {
          "output_type": "stream",
          "name": "stdout",
          "text": [
            "Epoch Num= 34/50, Train Accuracy: 98.93, Test Accuracy: 84.25 \n"
          ]
        },
        {
          "output_type": "stream",
          "name": "stderr",
          "text": [
            "\r 72%|███████▏  | 36/50 [2:03:56<47:59, 205.69s/it]"
          ]
        },
        {
          "output_type": "stream",
          "name": "stdout",
          "text": [
            "Epoch Num= 35/50, Train Accuracy: 98.99, Test Accuracy: 84.35 \n"
          ]
        },
        {
          "output_type": "stream",
          "name": "stderr",
          "text": [
            "\r 74%|███████▍  | 37/50 [2:07:22<44:33, 205.68s/it]"
          ]
        },
        {
          "output_type": "stream",
          "name": "stdout",
          "text": [
            "Epoch Num= 36/50, Train Accuracy: 98.90, Test Accuracy: 84.25 \n"
          ]
        },
        {
          "output_type": "stream",
          "name": "stderr",
          "text": [
            "\r 76%|███████▌  | 38/50 [2:10:48<41:08, 205.69s/it]"
          ]
        },
        {
          "output_type": "stream",
          "name": "stdout",
          "text": [
            "Epoch Num= 37/50, Train Accuracy: 99.03, Test Accuracy: 84.41 \n"
          ]
        },
        {
          "output_type": "stream",
          "name": "stderr",
          "text": [
            "\r 78%|███████▊  | 39/50 [2:14:13<37:43, 205.76s/it]"
          ]
        },
        {
          "output_type": "stream",
          "name": "stdout",
          "text": [
            "Epoch Num= 38/50, Train Accuracy: 98.92, Test Accuracy: 83.97 \n"
          ]
        },
        {
          "output_type": "stream",
          "name": "stderr",
          "text": [
            "\r 80%|████████  | 40/50 [2:17:40<34:20, 206.01s/it]"
          ]
        },
        {
          "output_type": "stream",
          "name": "stdout",
          "text": [
            "Epoch Num= 39/50, Train Accuracy: 99.11, Test Accuracy: 84.50 \n"
          ]
        },
        {
          "output_type": "stream",
          "name": "stderr",
          "text": [
            "\r 80%|████████  | 40/50 [2:19:47<34:56, 209.69s/it]\n"
          ]
        },
        {
          "output_type": "error",
          "ename": "KeyboardInterrupt",
          "evalue": "ignored",
          "traceback": [
            "\u001b[0;31m---------------------------------------------------------------------------\u001b[0m",
            "\u001b[0;31mKeyboardInterrupt\u001b[0m                         Traceback (most recent call last)",
            "\u001b[0;32m<ipython-input-39-fab5cc9450e7>\u001b[0m in \u001b[0;36m<cell line: 8>\u001b[0;34m()\u001b[0m\n\u001b[1;32m     20\u001b[0m     \u001b[0mlabels\u001b[0m \u001b[0;34m=\u001b[0m \u001b[0mtorch\u001b[0m\u001b[0;34m.\u001b[0m\u001b[0msqueeze\u001b[0m\u001b[0;34m(\u001b[0m\u001b[0mlabels\u001b[0m\u001b[0;34m,\u001b[0m\u001b[0;36m1\u001b[0m\u001b[0;34m)\u001b[0m\u001b[0;34m\u001b[0m\u001b[0;34m\u001b[0m\u001b[0m\n\u001b[1;32m     21\u001b[0m     \u001b[0mloss\u001b[0m \u001b[0;34m=\u001b[0m \u001b[0mloss_fn\u001b[0m\u001b[0;34m(\u001b[0m\u001b[0moutputs\u001b[0m\u001b[0;34m,\u001b[0m\u001b[0mlabels\u001b[0m\u001b[0;34m)\u001b[0m\u001b[0;34m\u001b[0m\u001b[0;34m\u001b[0m\u001b[0m\n\u001b[0;32m---> 22\u001b[0;31m     \u001b[0mloss\u001b[0m\u001b[0;34m.\u001b[0m\u001b[0mbackward\u001b[0m\u001b[0;34m(\u001b[0m\u001b[0;34m)\u001b[0m\u001b[0;34m\u001b[0m\u001b[0;34m\u001b[0m\u001b[0m\n\u001b[0m\u001b[1;32m     23\u001b[0m     \u001b[0mopt\u001b[0m\u001b[0;34m.\u001b[0m\u001b[0mstep\u001b[0m\u001b[0;34m(\u001b[0m\u001b[0;34m)\u001b[0m\u001b[0;34m\u001b[0m\u001b[0;34m\u001b[0m\u001b[0m\n\u001b[1;32m     24\u001b[0m     \u001b[0;32mdel\u001b[0m \u001b[0minputs\u001b[0m\u001b[0;34m,\u001b[0m\u001b[0mlabels\u001b[0m\u001b[0;34m\u001b[0m\u001b[0;34m\u001b[0m\u001b[0m\n",
            "\u001b[0;32m/usr/local/lib/python3.9/dist-packages/torch/_tensor.py\u001b[0m in \u001b[0;36mbackward\u001b[0;34m(self, gradient, retain_graph, create_graph, inputs)\u001b[0m\n\u001b[1;32m    485\u001b[0m                 \u001b[0minputs\u001b[0m\u001b[0;34m=\u001b[0m\u001b[0minputs\u001b[0m\u001b[0;34m,\u001b[0m\u001b[0;34m\u001b[0m\u001b[0;34m\u001b[0m\u001b[0m\n\u001b[1;32m    486\u001b[0m             )\n\u001b[0;32m--> 487\u001b[0;31m         torch.autograd.backward(\n\u001b[0m\u001b[1;32m    488\u001b[0m             \u001b[0mself\u001b[0m\u001b[0;34m,\u001b[0m \u001b[0mgradient\u001b[0m\u001b[0;34m,\u001b[0m \u001b[0mretain_graph\u001b[0m\u001b[0;34m,\u001b[0m \u001b[0mcreate_graph\u001b[0m\u001b[0;34m,\u001b[0m \u001b[0minputs\u001b[0m\u001b[0;34m=\u001b[0m\u001b[0minputs\u001b[0m\u001b[0;34m\u001b[0m\u001b[0;34m\u001b[0m\u001b[0m\n\u001b[1;32m    489\u001b[0m         )\n",
            "\u001b[0;32m/usr/local/lib/python3.9/dist-packages/torch/autograd/__init__.py\u001b[0m in \u001b[0;36mbackward\u001b[0;34m(tensors, grad_tensors, retain_graph, create_graph, grad_variables, inputs)\u001b[0m\n\u001b[1;32m    198\u001b[0m     \u001b[0;31m# some Python versions print out the first line of a multi-line function\u001b[0m\u001b[0;34m\u001b[0m\u001b[0;34m\u001b[0m\u001b[0m\n\u001b[1;32m    199\u001b[0m     \u001b[0;31m# calls in the traceback and some print out the last line\u001b[0m\u001b[0;34m\u001b[0m\u001b[0;34m\u001b[0m\u001b[0m\n\u001b[0;32m--> 200\u001b[0;31m     Variable._execution_engine.run_backward(  # Calls into the C++ engine to run the backward pass\n\u001b[0m\u001b[1;32m    201\u001b[0m         \u001b[0mtensors\u001b[0m\u001b[0;34m,\u001b[0m \u001b[0mgrad_tensors_\u001b[0m\u001b[0;34m,\u001b[0m \u001b[0mretain_graph\u001b[0m\u001b[0;34m,\u001b[0m \u001b[0mcreate_graph\u001b[0m\u001b[0;34m,\u001b[0m \u001b[0minputs\u001b[0m\u001b[0;34m,\u001b[0m\u001b[0;34m\u001b[0m\u001b[0;34m\u001b[0m\u001b[0m\n\u001b[1;32m    202\u001b[0m         allow_unreachable=True, accumulate_grad=True)  # Calls into the C++ engine to run the backward pass\n",
            "\u001b[0;31mKeyboardInterrupt\u001b[0m: "
          ]
        }
      ]
    },
    {
      "cell_type": "code",
      "source": [
        "# from tqdm import tqdm\n",
        "# import matplotlib.pyplot as plt\n",
        "# loss_array = []\n",
        "# loss_epoch_array = []\n",
        "# maximum_epochs = 25\n",
        "\n",
        "\n",
        "# for epoch_num in tqdm(range(maximum_epochs)):\n",
        "#   for i, data in enumerate(train_loader,0):\n",
        "#     inputs, labels = data\n",
        "#     inputs,labels = inputs.to(device),labels.to(device,dtype=torch.long)\n",
        "#     # hidden = model.init_hidden()\n",
        "#     # hidden = hidden.to(device)\n",
        "#     opt.zero_grad()\n",
        "#     #print(inputs.shape)\n",
        "#     outputs = model(inputs)\n",
        "#     # for i in range(inputs.size()[0]):\n",
        "#     #     outputs, hidden = model(inputs[i], hidden)\n",
        "\n",
        "#     labels = torch.squeeze(labels,1)\n",
        "#     loss = loss_fn(outputs,labels)\n",
        "#     loss.backward()\n",
        "#     opt.step()\n",
        "#     del inputs,labels\n",
        "\n",
        "#     loss_array.append(loss.item())\n",
        "\n",
        "#   PATH = '/content/' + 'model_' + str(epoch_num) + '.pt'\n",
        "#   loss_epoch_array.append(loss.item())\n",
        "\n",
        "#   print('Epoch Num= %d/%d, Train Accuracy: %0.2f, Test Accuracy: %0.2f '%(epoch_num,maximum_epochs,evaluation(train_loader),\n",
        "#         evaluation(test_loader)))\n",
        "#   torch.save({\n",
        "#             'epoch': epoch_num,\n",
        "#             'model_state_dict': model.state_dict(),\n",
        "#             'optimizer_state_dict': opt.state_dict(),\n",
        "#             'loss': loss.item(),\n",
        "#             }, PATH)\n",
        "\n",
        "# plt.plot(loss_epoch_array)\n",
        "# plt.show()"
      ],
      "metadata": {
        "id": "PHhhZMf9WrK0"
      },
      "execution_count": null,
      "outputs": []
    },
    {
      "cell_type": "code",
      "source": [
        "PATH = '/content/model_39.pt'\n",
        "model.load_state_dict(torch.load(PATH)['model_state_dict'])\n",
        "model.eval()"
      ],
      "metadata": {
        "colab": {
          "base_uri": "https://localhost:8080/"
        },
        "id": "wukMKdZrbQzw",
        "outputId": "ec7e53e9-6bb1-4cff-f9dd-1018716ea7ad"
      },
      "execution_count": 40,
      "outputs": [
        {
          "output_type": "execute_result",
          "data": {
            "text/plain": [
              "RNN(\n",
              "  (rnn): LSTM(6, 200, num_layers=4, batch_first=True, bidirectional=True)\n",
              "  (fc1): Linear(in_features=400, out_features=256, bias=True)\n",
              "  (relu): ReLU()\n",
              "  (fc2): Linear(in_features=256, out_features=4, bias=True)\n",
              ")"
            ]
          },
          "metadata": {},
          "execution_count": 40
        }
      ]
    },
    {
      "cell_type": "code",
      "source": [
        "evaluation(test_loader)"
      ],
      "metadata": {
        "colab": {
          "base_uri": "https://localhost:8080/"
        },
        "id": "Wz2QvsN5buxA",
        "outputId": "6accb582-0e9b-4cd6-b9dd-395fde337ff4"
      },
      "execution_count": 41,
      "outputs": [
        {
          "output_type": "execute_result",
          "data": {
            "text/plain": [
              "84.39112090850777"
            ]
          },
          "metadata": {},
          "execution_count": 41
        }
      ]
    },
    {
      "cell_type": "code",
      "source": [
        "from sklearn.metrics import confusion_matrix\n",
        "import seaborn as sn\n",
        "import pandas as pd\n",
        "import matplotlib.pyplot as plt\n",
        "\n",
        "y_pred_test = []\n",
        "y_true_test = []\n",
        "\n",
        "# iterate over test data\n",
        "for i,data in enumerate(train_loader):\n",
        "  inputs, labels = data\n",
        "  inputs,labels = inputs.to(device),labels.to(device)\n",
        "  outputs = model(inputs)\n",
        "  \n",
        "  #_,pred = torch.max(outputs.data,1) \n",
        " \n",
        "  pred = torch.log_softmax(outputs, dim = 1)\n",
        "  y_pred_tags = torch.argmax(pred, dim = 1)    ######\n",
        "\n",
        "  y_pred_test.extend(y_pred_tags.data.cpu().numpy()) # Save Prediction\n",
        "\n",
        "  #_,classesmax = torch.max(labels, 1)   #####\n",
        "  classesmax = labels.data.cpu().numpy()\n",
        "  y_true_test.extend(classesmax) # Save Truth\n",
        "\n",
        "# constant for classes\n",
        "# 'AD': 3404, 'MCI': 7595, 'CN': 4019\n",
        "classes = ('Standing/Walking on solid ground','Going downstairs','Going upstairs','Walking on the grass')\n",
        "\n",
        "# Build confusion matrix\n",
        "cf_matrix = confusion_matrix(y_true_test, y_pred_test)\n",
        "print(cf_matrix)\n",
        "#/np.sum(cf_matrix) *10s\n",
        "df_cm = pd.DataFrame(cf_matrix.astype('float')/cf_matrix.sum(axis=1)[:, np.newaxis], index = [i for i in classes],\n",
        "                     columns = [i for i in classes])\n",
        "plt.figure(figsize = (12,7))\n",
        "sn.heatmap(df_cm, annot=True)\n",
        "plt.xlabel('Predicted')\n",
        "plt.ylabel('True')\n",
        "plt.savefig('output.png')"
      ],
      "metadata": {
        "colab": {
          "base_uri": "https://localhost:8080/",
          "height": 688
        },
        "id": "3mowfFNabviM",
        "outputId": "5be56ec7-9872-4ae3-f550-2cfc85119f9d"
      },
      "execution_count": 42,
      "outputs": [
        {
          "output_type": "stream",
          "name": "stdout",
          "text": [
            "[[165805    198    307   2350]\n",
            " [    88 168558     10      4]\n",
            " [    66      4 168588      2]\n",
            " [  3044     48     23 165545]]\n"
          ]
        },
        {
          "output_type": "display_data",
          "data": {
            "text/plain": [
              "<Figure size 1200x700 with 2 Axes>"
            ],
            "image/png": "[encoded data removed]"
          },
          "metadata": {}
        }
      ]
    },
    {
      "cell_type": "code",
      "source": [
        "from sklearn.metrics import confusion_matrix\n",
        "import seaborn as sn\n",
        "import pandas as pd\n",
        "\n",
        "y_pred_test = []\n",
        "y_true_test = []\n",
        "\n",
        "# iterate over test data\n",
        "for i,data in enumerate(test_loader):\n",
        "  inputs, labels = data\n",
        "  inputs,labels = inputs.to(device),labels.to(device)\n",
        "  outputs = model(inputs)\n",
        "  \n",
        "  #_,pred = torch.max(outputs.data,1) \n",
        " \n",
        "  pred = torch.log_softmax(outputs, dim = 1)\n",
        "  y_pred_tags = torch.argmax(pred, dim = 1)    ######\n",
        "\n",
        "  y_pred_test.extend(y_pred_tags.data.cpu().numpy()) # Save Prediction\n",
        "\n",
        "  #_,classesmax = torch.max(labels, 1)   #####\n",
        "  classesmax = labels.data.cpu().numpy()\n",
        "  y_true_test.extend(classesmax) # Save Truth\n",
        "\n",
        "# constant for classes\n",
        "# 'AD': 3404, 'MCI': 7595, 'CN': 4019\n",
        "classes = ('Standing/Walking on solid ground','Going downstairs','Going upstairs','Walking on the grass')\n",
        "\n",
        "# Build confusion matrix\n",
        "cf_matrix = confusion_matrix(y_true_test, y_pred_test)\n",
        "print(cf_matrix)\n",
        "#/np.sum(cf_matrix) *10s\n",
        "df_cm = pd.DataFrame(cf_matrix.astype('float')/cf_matrix.sum(axis=1)[:, np.newaxis], index = [i for i in classes],\n",
        "                     columns = [i for i in classes])\n",
        "plt.figure(figsize = (12,7))\n",
        "sn.heatmap(df_cm, annot=True)\n",
        "plt.xlabel('Predicted')\n",
        "plt.ylabel('True')\n",
        "plt.savefig('output.png')"
      ],
      "metadata": {
        "colab": {
          "base_uri": "https://localhost:8080/",
          "height": 688
        },
        "id": "eQQcJCXUbxeJ",
        "outputId": "c6d951a9-4c96-4b88-90f0-09ac0894fb40"
      },
      "execution_count": 43,
      "outputs": [
        {
          "output_type": "stream",
          "name": "stdout",
          "text": [
            "[[74446   894   964  6769]\n",
            " [  614  3804    38    99]\n",
            " [  544    36  5413    35]\n",
            " [ 6861   227    94  9849]]\n"
          ]
        },
        {
          "output_type": "display_data",
          "data": {
            "text/plain": [
              "<Figure size 1200x700 with 2 Axes>"
            ],
            "image/png": "[encoded data removed]"
          },
          "metadata": {}
        }
      ]
    },
    {
      "cell_type": "code",
      "source": [
        "import pickle\n",
        "with open('/content/scaler.pkl','wb') as f:\n",
        "    pickle.dump(scalar, f)"
      ],
      "metadata": {
        "id": "vE4Sc8WFLJLd"
      },
      "execution_count": 44,
      "outputs": []
    }
  ]
}